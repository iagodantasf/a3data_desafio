{
 "cells": [
  {
   "cell_type": "markdown",
   "metadata": {},
   "source": [
    "# LLM Application — Summarizing Reviews"
   ]
  },
  {
   "cell_type": "code",
   "execution_count": 1,
   "metadata": {},
   "outputs": [],
   "source": [
    "%load_ext autoreload\n",
    "%autoreload 2"
   ]
  },
  {
   "cell_type": "code",
   "execution_count": 2,
   "metadata": {},
   "outputs": [],
   "source": [
    "import pandas as pd\n",
    "import numpy as np\n",
    "import yaml\n",
    "import seaborn as sns\n",
    "import matplotlib.pyplot as plt\n",
    "from tqdm import tqdm\n",
    "from preprocessing import preprocessed_books_data, preprocessed_books_rating\n",
    "from llm import summarize_review_t5\n",
    "from IPython.display import display, HTML"
   ]
  },
  {
   "cell_type": "code",
   "execution_count": 3,
   "metadata": {},
   "outputs": [],
   "source": [
    "cfg = yaml.safe_load(open(\"config.yaml\"))"
   ]
  },
  {
   "cell_type": "code",
   "execution_count": 4,
   "metadata": {},
   "outputs": [],
   "source": [
    "books_rating = preprocessed_books_rating(cfg)"
   ]
  },
  {
   "cell_type": "code",
   "execution_count": 5,
   "metadata": {},
   "outputs": [],
   "source": [
    "books_data = preprocessed_books_data(cfg)"
   ]
  },
  {
   "cell_type": "code",
   "execution_count": 6,
   "metadata": {},
   "outputs": [],
   "source": [
    "books_rating['full_text_len'] = books_rating['full_text'].str.len()"
   ]
  },
  {
   "cell_type": "code",
   "execution_count": 7,
   "metadata": {},
   "outputs": [
    {
     "data": {
      "text/html": [
       "<div>\n",
       "<style scoped>\n",
       "    .dataframe tbody tr th:only-of-type {\n",
       "        vertical-align: middle;\n",
       "    }\n",
       "\n",
       "    .dataframe tbody tr th {\n",
       "        vertical-align: top;\n",
       "    }\n",
       "\n",
       "    .dataframe thead th {\n",
       "        text-align: right;\n",
       "    }\n",
       "</style>\n",
       "<table border=\"1\" class=\"dataframe\">\n",
       "  <thead>\n",
       "    <tr style=\"text-align: right;\">\n",
       "      <th></th>\n",
       "      <th>title</th>\n",
       "      <th>user_id</th>\n",
       "      <th>score</th>\n",
       "      <th>full_text</th>\n",
       "      <th>full_text_len</th>\n",
       "    </tr>\n",
       "  </thead>\n",
       "  <tbody>\n",
       "    <tr>\n",
       "      <th>1950860</th>\n",
       "      <td>Torture garden;</td>\n",
       "      <td>AMKC1EJBUXDS2</td>\n",
       "      <td>5.0</td>\n",
       "      <td>&amp;quot;ART, milady, consists in knowing how to ...</td>\n",
       "      <td>5041</td>\n",
       "    </tr>\n",
       "    <tr>\n",
       "      <th>1965928</th>\n",
       "      <td>True History of the Kelly Gang</td>\n",
       "      <td>AG304PU4M3KOB</td>\n",
       "      <td>4.0</td>\n",
       "      <td>A riveting and exciting tale. Peter Carey's Th...</td>\n",
       "      <td>5041</td>\n",
       "    </tr>\n",
       "    <tr>\n",
       "      <th>1099102</th>\n",
       "      <td>Overweight Kids</td>\n",
       "      <td>A2Z18D53C95OCH</td>\n",
       "      <td>5.0</td>\n",
       "      <td>Looks at the Physical and the Emotional !. A d...</td>\n",
       "      <td>5041</td>\n",
       "    </tr>\n",
       "    <tr>\n",
       "      <th>447478</th>\n",
       "      <td>Dune</td>\n",
       "      <td>A1TWYEFX7HNILJ</td>\n",
       "      <td>5.0</td>\n",
       "      <td>A science-fiction classic!. Dune is commonly c...</td>\n",
       "      <td>5041</td>\n",
       "    </tr>\n",
       "    <tr>\n",
       "      <th>130522</th>\n",
       "      <td>Amber Spyglass (10th Anniversary Ed)</td>\n",
       "      <td>A2MNL91I56DX98</td>\n",
       "      <td>2.0</td>\n",
       "      <td>Great Adventure but Hypocritical Worldview. Gr...</td>\n",
       "      <td>5041</td>\n",
       "    </tr>\n",
       "    <tr>\n",
       "      <th>478745</th>\n",
       "      <td>Empire of Unreason (The Age of Unreason, Book 3)</td>\n",
       "      <td>A3Q80Q6YFP5W6Q</td>\n",
       "      <td>4.0</td>\n",
       "      <td>Mystic war comes to the Americas. J. Gregory K...</td>\n",
       "      <td>5041</td>\n",
       "    </tr>\n",
       "    <tr>\n",
       "      <th>1151749</th>\n",
       "      <td>Prayer Of The Night Shepherd</td>\n",
       "      <td>A18CKXCNMFF35</td>\n",
       "      <td>5.0</td>\n",
       "      <td>Calling All SIr Arthur Conan Doyle fans!. The ...</td>\n",
       "      <td>5041</td>\n",
       "    </tr>\n",
       "    <tr>\n",
       "      <th>122983</th>\n",
       "      <td>All He Ever Wanted</td>\n",
       "      <td>A8ANAGMQXVT8R</td>\n",
       "      <td>3.0</td>\n",
       "      <td>All HE ever wanted is right. ** spoiler alert ...</td>\n",
       "      <td>5041</td>\n",
       "    </tr>\n",
       "    <tr>\n",
       "      <th>140573</th>\n",
       "      <td>An essay on crimes and punishments</td>\n",
       "      <td>A134C9GVEU5TQE</td>\n",
       "      <td>5.0</td>\n",
       "      <td>Consider Machiavelli Versus Beccaria! A Compar...</td>\n",
       "      <td>5041</td>\n",
       "    </tr>\n",
       "    <tr>\n",
       "      <th>1229205</th>\n",
       "      <td>Roots : The Saga of an American Family</td>\n",
       "      <td>AOYTQFRLD8VLP</td>\n",
       "      <td>5.0</td>\n",
       "      <td>Heritage Regained. Alex Haley's monumental tri...</td>\n",
       "      <td>5041</td>\n",
       "    </tr>\n",
       "  </tbody>\n",
       "</table>\n",
       "</div>"
      ],
      "text/plain": [
       "                                                    title         user_id  \\\n",
       "1950860                                   Torture garden;   AMKC1EJBUXDS2   \n",
       "1965928                    True History of the Kelly Gang   AG304PU4M3KOB   \n",
       "1099102                                   Overweight Kids  A2Z18D53C95OCH   \n",
       "447478                                               Dune  A1TWYEFX7HNILJ   \n",
       "130522               Amber Spyglass (10th Anniversary Ed)  A2MNL91I56DX98   \n",
       "478745   Empire of Unreason (The Age of Unreason, Book 3)  A3Q80Q6YFP5W6Q   \n",
       "1151749                      Prayer Of The Night Shepherd   A18CKXCNMFF35   \n",
       "122983                                 All He Ever Wanted   A8ANAGMQXVT8R   \n",
       "140573                 An essay on crimes and punishments  A134C9GVEU5TQE   \n",
       "1229205            Roots : The Saga of an American Family   AOYTQFRLD8VLP   \n",
       "\n",
       "         score                                          full_text  \\\n",
       "1950860    5.0  &quot;ART, milady, consists in knowing how to ...   \n",
       "1965928    4.0  A riveting and exciting tale. Peter Carey's Th...   \n",
       "1099102    5.0  Looks at the Physical and the Emotional !. A d...   \n",
       "447478     5.0  A science-fiction classic!. Dune is commonly c...   \n",
       "130522     2.0  Great Adventure but Hypocritical Worldview. Gr...   \n",
       "478745     4.0  Mystic war comes to the Americas. J. Gregory K...   \n",
       "1151749    5.0  Calling All SIr Arthur Conan Doyle fans!. The ...   \n",
       "122983     3.0  All HE ever wanted is right. ** spoiler alert ...   \n",
       "140573     5.0  Consider Machiavelli Versus Beccaria! A Compar...   \n",
       "1229205    5.0  Heritage Regained. Alex Haley's monumental tri...   \n",
       "\n",
       "         full_text_len  \n",
       "1950860           5041  \n",
       "1965928           5041  \n",
       "1099102           5041  \n",
       "447478            5041  \n",
       "130522            5041  \n",
       "478745            5041  \n",
       "1151749           5041  \n",
       "122983            5041  \n",
       "140573            5041  \n",
       "1229205           5041  "
      ]
     },
     "execution_count": 7,
     "metadata": {},
     "output_type": "execute_result"
    }
   ],
   "source": [
    "books_rating.sort_values('full_text_len').tail(10)"
   ]
  },
  {
   "cell_type": "code",
   "execution_count": 8,
   "metadata": {},
   "outputs": [],
   "source": [
    "idx = 447478\n",
    "\n",
    "title = books_rating.loc[idx, 'title']\n",
    "score = f\"{books_rating.loc[idx, 'score']:.1f}\"\n",
    "review = books_rating.loc[idx, 'full_text']"
   ]
  },
  {
   "cell_type": "code",
   "execution_count": 9,
   "metadata": {},
   "outputs": [
    {
     "data": {
      "text/html": [
       "<div>\n",
       "<style scoped>\n",
       "    .dataframe tbody tr th:only-of-type {\n",
       "        vertical-align: middle;\n",
       "    }\n",
       "\n",
       "    .dataframe tbody tr th {\n",
       "        vertical-align: top;\n",
       "    }\n",
       "\n",
       "    .dataframe thead th {\n",
       "        text-align: right;\n",
       "    }\n",
       "</style>\n",
       "<table border=\"1\" class=\"dataframe\">\n",
       "  <thead>\n",
       "    <tr style=\"text-align: right;\">\n",
       "      <th></th>\n",
       "      <th>title</th>\n",
       "      <th>description</th>\n",
       "      <th>authors</th>\n",
       "      <th>categories</th>\n",
       "    </tr>\n",
       "  </thead>\n",
       "  <tbody>\n",
       "    <tr>\n",
       "      <th>4562</th>\n",
       "      <td>Dune</td>\n",
       "      <td>Immerse yourself in the world of Denis Villene...</td>\n",
       "      <td>Tanya Lapointe</td>\n",
       "      <td>Art</td>\n",
       "    </tr>\n",
       "  </tbody>\n",
       "</table>\n",
       "</div>"
      ],
      "text/plain": [
       "     title                                        description         authors  \\\n",
       "4562  Dune  Immerse yourself in the world of Denis Villene...  Tanya Lapointe   \n",
       "\n",
       "     categories  \n",
       "4562        Art  "
      ]
     },
     "execution_count": 9,
     "metadata": {},
     "output_type": "execute_result"
    }
   ],
   "source": [
    "filt_books_data = books_data.query('title == @title')\n",
    "filt_books_data"
   ]
  },
  {
   "cell_type": "code",
   "execution_count": 10,
   "metadata": {},
   "outputs": [],
   "source": [
    "description = filt_books_data['description'].values[0]\n",
    "authors = filt_books_data['authors'].drop_duplicates().str.cat(sep=', ')\n",
    "categories = filt_books_data['categories'].drop_duplicates().str.cat(sep=', ')"
   ]
  },
  {
   "cell_type": "code",
   "execution_count": 11,
   "metadata": {},
   "outputs": [
    {
     "name": "stderr",
     "output_type": "stream",
     "text": [
      "You are using the default legacy behaviour of the <class 'transformers.models.t5.tokenization_t5.T5Tokenizer'>. This is expected, and simply means that the `legacy` (previous) behavior will be used so nothing changes for you. If you want to use the new behaviour, set `legacy=False`. This should only be set if you understand what it means, and thoroughly read the reason why this was added as explained in https://github.com/huggingface/transformers/pull/24565\n"
     ]
    }
   ],
   "source": [
    "summarized_review = summarize_review_t5(\n",
    "    title=title,\n",
    "    description=description,\n",
    "    authors=authors,\n",
    "    categories=categories,\n",
    "    score=score,\n",
    "    review=review,\n",
    "    model_name='t5-base',\n",
    ")"
   ]
  },
  {
   "cell_type": "code",
   "execution_count": 12,
   "metadata": {},
   "outputs": [
    {
     "data": {
      "text/plain": [
       "'Dune is a fascinating story that is a bit of a mystery to me. Dune is a fascinating story. Dune is a great read. Dune Messiah and Children of Dune are both worthwhile reads. Dune Dune Dune Dune Dune Dune. and and and and. and and and. Dune is a great read. Dune Messiah and Dune,'"
      ]
     },
     "execution_count": 12,
     "metadata": {},
     "output_type": "execute_result"
    }
   ],
   "source": [
    "summarized_review"
   ]
  },
  {
   "cell_type": "code",
   "execution_count": 15,
   "metadata": {},
   "outputs": [
    {
     "data": {
      "text/plain": [
       "279"
      ]
     },
     "execution_count": 15,
     "metadata": {},
     "output_type": "execute_result"
    }
   ],
   "source": [
    "len(summarized_review)"
   ]
  },
  {
   "cell_type": "code",
   "execution_count": 16,
   "metadata": {},
   "outputs": [
    {
     "data": {
      "text/html": [
       "\n",
       "<table>\n",
       "    <tr>\n",
       "        <td style=\"vertical-align: top; padding-right: 20px;\">A science-fiction classic!. Dune is commonly cited as the world's bestselling sci-fi novel. Many also argue that it is the greatest. While I myself will not make that claim (I've read far too many excellent novels to ever even consider picking just one) I find myself disinclined to argue with that statement. I will say that Frank Herbert's masterpiece is by far the most imaginative work of sci-fi I've ever picked up.Good science fiction walks a tightrope between making things too familiar and making them relateable. Dune somehow manages both. The world of Dune is a human empire that stretches across the stars, yet functions in a very feudalistic manner. It's somewhere abouts the year 10,000 and everything has changed, from science to technology to religion, and all of it described so that if you're vigilant you can really learn a lot about this world. At the same time, for the most part Herbert avoids the dreaded \"people telling each other things they should already know\" pitfall.The novel begins on Caladan, a watery planet ruled by Duke Leto Atreides and his family, the concubine Lady Jessica and their son Paul Atreides. You quickly learn that a.) things are not as they seem with House Atreides' move from their traditional home on Caladan to be \"rewarded\" with control of Arrakis, a desert planet where moisture is so precious its natives (and anyone venturing outside the cities) are forced to wear \"stillsuits\" that reclaim the body's otherwise-lost moisture, a planet where workers harvesting the precious melange spice have to dodge the gigantic sandworms that roam the desert and will swallow a mining facility whole. And b.) you learn that there are some mighty strange inhabitants of this future society we are being shown. There are the Fremen, the native inhabitants of the deserts of Arrakis and a force not to be underestimated. There are the Bene Gesserit, an order that mostly resembles the Aes Sedai of Robert Jordan'sWheel Of Time series (Anyone? No? Okay, they're an all-female Jedi Order. Better?) and have been manipulating the various noble houses' lineages in hopes of creating their (for lack of a better word) messiah-an aim they may or may not have achieved with the birth of young Paul. There are the Harkonnens, another noble House locked in an age-old feud with House Atreides and the previous rulers of Arrakis. There is the Guild, the organization that controls all space travel and answers to no one but themselves, not even the Padishah Emperor himself. There are the Mentats, men trained to be intensely logical reasoning machines (for all mechanical intelligences such as computers are taboo after an ill-defined war in the distant past) who are nevertheless still governed by the most basic rule of computing-garbage in, garbage out.I cannot say much more without giving away plot details. What I will say is that the novel is meticulously plotted, an intricate weave of political maneuvering in a system that doesn't actually exist outside of the imagination. The complexity is astounding, and leads to my one real caution about the book-its not for the faint of heart. The book requires your complete concentration or you will get completely lost and have to go back to find what details you missed. As such, and to facilitate such intricate interactions between the characters, Herbert ditches the literary convention of having a single POV character for any given scene. You may find yourself, in the course of a seemingly meaningless coversation between six or seven people over dinner, in the head of every person present in order to more clearly understand what is going on and where their minds are going with the multiple layers of subtext. It's done well, but it makes the book a bit more challenging than it would otherwise be. Additionally, there is a lot of new vocabulary you will have to learn. Fortunately, Herbert does a good job of defining things in the text without being annoying-I actually found the glossary in the back distracting after a while for anything but going back to double-check meanings I was already supposed to have learned.There is a good deal of violence throughout the book, though I didn't find it gratuitous. Likewise sexual innuendo. Its there, it just isn't necessarily stuck in your face or played for obscenity. There may have been some language, I really don't recall. If you're old enough to make it through Dune in all other regards, I doubt you'll find it problematic.So yeah. Dune is technically the first work in a series, though I've had conflicting reports on how far through the series I should read. Some reccomend stopping here. Others say that Dune Messiah and Children of Dune are also worthwhile, completing Herbert's originally-conceived trilogy. I'll probably pause there for a while before moving on to the other sequels and prequels done in the ages since, if only because the initial trilogy was all I found at that garage sale last year. I haven't read any but the initial work yet, but thus far I can heartily recommend!</td>\n",
       "        <td style=\"vertical-align: top;\">Dune is a fascinating story that is a bit of a mystery to me. Dune is a fascinating story. Dune is a great read. Dune Messiah and Children of Dune are both worthwhile reads. Dune Dune Dune Dune Dune Dune. and and and and. and and and. Dune is a great read. Dune Messiah and Dune,</td>\n",
       "    </tr>\n",
       "</table>\n"
      ],
      "text/plain": [
       "<IPython.core.display.HTML object>"
      ]
     },
     "metadata": {},
     "output_type": "display_data"
    }
   ],
   "source": [
    "html_content = f\"\"\"\n",
    "<table>\n",
    "    <tr>\n",
    "        <td style=\"vertical-align: top; padding-right: 20px;\">{review}</td>\n",
    "        <td style=\"vertical-align: top;\">{summarized_review}</td>\n",
    "    </tr>\n",
    "</table>\n",
    "\"\"\"\n",
    "\n",
    "display(HTML(html_content))"
   ]
  },
  {
   "cell_type": "code",
   "execution_count": null,
   "metadata": {},
   "outputs": [],
   "source": []
  }
 ],
 "metadata": {
  "kernelspec": {
   "display_name": "a3data_desafio",
   "language": "python",
   "name": "python3"
  },
  "language_info": {
   "codemirror_mode": {
    "name": "ipython",
    "version": 3
   },
   "file_extension": ".py",
   "mimetype": "text/x-python",
   "name": "python",
   "nbconvert_exporter": "python",
   "pygments_lexer": "ipython3",
   "version": "3.11.11"
  }
 },
 "nbformat": 4,
 "nbformat_minor": 2
}
