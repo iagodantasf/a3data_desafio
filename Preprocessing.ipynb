{
 "cells": [
  {
   "cell_type": "markdown",
   "metadata": {},
   "source": [
    "# Preprocessing Data"
   ]
  },
  {
   "cell_type": "code",
   "execution_count": 1,
   "metadata": {},
   "outputs": [],
   "source": [
    "import yaml\n",
    "import matplotlib.pyplot as plt\n",
    "from preprocessing import preprocessed_books_data, preprocessed_books_rating"
   ]
  },
  {
   "cell_type": "code",
   "execution_count": 2,
   "metadata": {},
   "outputs": [],
   "source": [
    "cfg = yaml.safe_load(open(\"config.yaml\"))"
   ]
  },
  {
   "cell_type": "markdown",
   "metadata": {},
   "source": [
    "## Books Rating"
   ]
  },
  {
   "cell_type": "code",
   "execution_count": 3,
   "metadata": {},
   "outputs": [],
   "source": [
    "books_rating = preprocessed_books_rating(cfg)"
   ]
  },
  {
   "cell_type": "code",
   "execution_count": 4,
   "metadata": {},
   "outputs": [
    {
     "data": {
      "image/png": "[encoded data removed]",
      "text/plain": [
       "<Figure size 800x400 with 1 Axes>"
      ]
     },
     "metadata": {},
     "output_type": "display_data"
    }
   ],
   "source": [
    "books_rating['score'].hist(bins=20, figsize=(8, 4))\n",
    "plt.grid(c='k', alpha=0.1)\n",
    "plt.title('Score distribution')\n",
    "plt.xlabel('Score')\n",
    "plt.ylabel('Number of occurences')\n",
    "plt.show()"
   ]
  },
  {
   "cell_type": "code",
   "execution_count": 5,
   "metadata": {},
   "outputs": [
    {
     "data": {
      "text/html": [
       "<div>\n",
       "<style scoped>\n",
       "    .dataframe tbody tr th:only-of-type {\n",
       "        vertical-align: middle;\n",
       "    }\n",
       "\n",
       "    .dataframe tbody tr th {\n",
       "        vertical-align: top;\n",
       "    }\n",
       "\n",
       "    .dataframe thead th {\n",
       "        text-align: right;\n",
       "    }\n",
       "</style>\n",
       "<table border=\"1\" class=\"dataframe\">\n",
       "  <thead>\n",
       "    <tr style=\"text-align: right;\">\n",
       "      <th></th>\n",
       "      <th>title</th>\n",
       "      <th>user_id</th>\n",
       "      <th>score</th>\n",
       "      <th>time</th>\n",
       "      <th>summary</th>\n",
       "      <th>text</th>\n",
       "    </tr>\n",
       "  </thead>\n",
       "  <tbody>\n",
       "    <tr>\n",
       "      <th>1096027</th>\n",
       "      <td>Out of the Dust</td>\n",
       "      <td>A2EEAHFEIX0MP6</td>\n",
       "      <td>3.5</td>\n",
       "      <td>979257600</td>\n",
       "      <td>Out of the Dust. Out of the Dust</td>\n",
       "      <td>\"The rain has brought back some grass and the ...</td>\n",
       "    </tr>\n",
       "  </tbody>\n",
       "</table>\n",
       "</div>"
      ],
      "text/plain": [
       "                   title         user_id  score       time  \\\n",
       "1096027  Out of the Dust  A2EEAHFEIX0MP6    3.5  979257600   \n",
       "\n",
       "                                  summary  \\\n",
       "1096027  Out of the Dust. Out of the Dust   \n",
       "\n",
       "                                                      text  \n",
       "1096027  \"The rain has brought back some grass and the ...  "
      ]
     },
     "execution_count": 5,
     "metadata": {},
     "output_type": "execute_result"
    }
   ],
   "source": [
    "books_rating.query('title == \"Out of the Dust\" and user_id == \"A2EEAHFEIX0MP6\"')"
   ]
  },
  {
   "cell_type": "code",
   "execution_count": 6,
   "metadata": {},
   "outputs": [
    {
     "data": {
      "text/html": [
       "<div>\n",
       "<style scoped>\n",
       "    .dataframe tbody tr th:only-of-type {\n",
       "        vertical-align: middle;\n",
       "    }\n",
       "\n",
       "    .dataframe tbody tr th {\n",
       "        vertical-align: top;\n",
       "    }\n",
       "\n",
       "    .dataframe thead th {\n",
       "        text-align: right;\n",
       "    }\n",
       "</style>\n",
       "<table border=\"1\" class=\"dataframe\">\n",
       "  <thead>\n",
       "    <tr style=\"text-align: right;\">\n",
       "      <th></th>\n",
       "      <th>title</th>\n",
       "      <th>user_id</th>\n",
       "      <th>score</th>\n",
       "      <th>time</th>\n",
       "      <th>summary</th>\n",
       "      <th>text</th>\n",
       "    </tr>\n",
       "  </thead>\n",
       "  <tbody>\n",
       "    <tr>\n",
       "      <th>590447</th>\n",
       "      <td>Glacier pilot;: The story of Bob Reeve and the...</td>\n",
       "      <td>A2L7N2U5Z316ZE</td>\n",
       "      <td>5.0</td>\n",
       "      <td>1248048000</td>\n",
       "      <td>Bush Pilot Supreme. Flying in a Wilderness</td>\n",
       "      <td>\"...the rousing story of Bob Reeve, Alaska's f...</td>\n",
       "    </tr>\n",
       "  </tbody>\n",
       "</table>\n",
       "</div>"
      ],
      "text/plain": [
       "                                                    title         user_id  \\\n",
       "590447  Glacier pilot;: The story of Bob Reeve and the...  A2L7N2U5Z316ZE   \n",
       "\n",
       "        score        time                                     summary  \\\n",
       "590447    5.0  1248048000  Bush Pilot Supreme. Flying in a Wilderness   \n",
       "\n",
       "                                                     text  \n",
       "590447  \"...the rousing story of Bob Reeve, Alaska's f...  "
      ]
     },
     "execution_count": 6,
     "metadata": {},
     "output_type": "execute_result"
    }
   ],
   "source": [
    "books_rating.query('title.str.startswith(\"Glacier pilot;: The story of Bob Reeve and the\") and user_id == \"A2L7N2U5Z316ZE\"')"
   ]
  },
  {
   "cell_type": "markdown",
   "metadata": {},
   "source": [
    "## Books Data"
   ]
  },
  {
   "cell_type": "code",
   "execution_count": 7,
   "metadata": {},
   "outputs": [],
   "source": [
    "books_data = preprocessed_books_data(cfg)"
   ]
  },
  {
   "cell_type": "code",
   "execution_count": 8,
   "metadata": {},
   "outputs": [
    {
     "data": {
      "text/html": [
       "<div>\n",
       "<style scoped>\n",
       "    .dataframe tbody tr th:only-of-type {\n",
       "        vertical-align: middle;\n",
       "    }\n",
       "\n",
       "    .dataframe tbody tr th {\n",
       "        vertical-align: top;\n",
       "    }\n",
       "\n",
       "    .dataframe thead th {\n",
       "        text-align: right;\n",
       "    }\n",
       "</style>\n",
       "<table border=\"1\" class=\"dataframe\">\n",
       "  <thead>\n",
       "    <tr style=\"text-align: right;\">\n",
       "      <th></th>\n",
       "      <th>title</th>\n",
       "      <th>description</th>\n",
       "      <th>authors</th>\n",
       "      <th>categories</th>\n",
       "    </tr>\n",
       "  </thead>\n",
       "  <tbody>\n",
       "    <tr>\n",
       "      <th>0</th>\n",
       "      <td>Its Only Art If Its Well Hung!</td>\n",
       "      <td></td>\n",
       "      <td>Julie Strain</td>\n",
       "      <td>Comics &amp; Graphic Novels</td>\n",
       "    </tr>\n",
       "    <tr>\n",
       "      <th>1</th>\n",
       "      <td>Dr. Seuss: American Icon</td>\n",
       "      <td>Philip Nel takes a fascinating look into the k...</td>\n",
       "      <td>Philip Nel</td>\n",
       "      <td>Biography &amp; Autobiography</td>\n",
       "    </tr>\n",
       "    <tr>\n",
       "      <th>2</th>\n",
       "      <td>Wonderful Worship in Smaller Churches</td>\n",
       "      <td>This resource includes twelve principles in un...</td>\n",
       "      <td>David R. Ray</td>\n",
       "      <td>Religion</td>\n",
       "    </tr>\n",
       "    <tr>\n",
       "      <th>3</th>\n",
       "      <td>Whispers of the Wicked Saints</td>\n",
       "      <td>Julia Thomas finds her life spinning out of co...</td>\n",
       "      <td>Veronica Haddon</td>\n",
       "      <td>Fiction</td>\n",
       "    </tr>\n",
       "    <tr>\n",
       "      <th>4</th>\n",
       "      <td>Nation Dance: Religion, Identity and Cultural ...</td>\n",
       "      <td></td>\n",
       "      <td>Edward Long</td>\n",
       "      <td>NaN</td>\n",
       "    </tr>\n",
       "    <tr>\n",
       "      <th>...</th>\n",
       "      <td>...</td>\n",
       "      <td>...</td>\n",
       "      <td>...</td>\n",
       "      <td>...</td>\n",
       "    </tr>\n",
       "    <tr>\n",
       "      <th>212400</th>\n",
       "      <td>Red Boots for Christmas</td>\n",
       "      <td>Everyone in the village of Friedensdorf is hap...</td>\n",
       "      <td>NaN</td>\n",
       "      <td>Juvenile Fiction</td>\n",
       "    </tr>\n",
       "    <tr>\n",
       "      <th>212401</th>\n",
       "      <td>Mamaw</td>\n",
       "      <td>Give your Mamaw a useful, beautiful and though...</td>\n",
       "      <td>Wild Wild Cabbage</td>\n",
       "      <td>NaN</td>\n",
       "    </tr>\n",
       "    <tr>\n",
       "      <th>212402</th>\n",
       "      <td>The Autograph Man</td>\n",
       "      <td>Alex-Li Tandem sells autographs. His business ...</td>\n",
       "      <td>Zadie Smith</td>\n",
       "      <td>Fiction</td>\n",
       "    </tr>\n",
       "    <tr>\n",
       "      <th>212403</th>\n",
       "      <td>Student's Solutions Manual for Johnson/Mowry's...</td>\n",
       "      <td>Discover the many ways mathematics is relevant...</td>\n",
       "      <td>David B. Johnson</td>\n",
       "      <td>NaN</td>\n",
       "    </tr>\n",
       "    <tr>\n",
       "      <th>212403</th>\n",
       "      <td>Student's Solutions Manual for Johnson/Mowry's...</td>\n",
       "      <td>Discover the many ways mathematics is relevant...</td>\n",
       "      <td>Thomas A. Mowry</td>\n",
       "      <td>NaN</td>\n",
       "    </tr>\n",
       "  </tbody>\n",
       "</table>\n",
       "<p>261515 rows × 4 columns</p>\n",
       "</div>"
      ],
      "text/plain": [
       "                                                    title  \\\n",
       "0                          Its Only Art If Its Well Hung!   \n",
       "1                                Dr. Seuss: American Icon   \n",
       "2                   Wonderful Worship in Smaller Churches   \n",
       "3                           Whispers of the Wicked Saints   \n",
       "4       Nation Dance: Religion, Identity and Cultural ...   \n",
       "...                                                   ...   \n",
       "212400                            Red Boots for Christmas   \n",
       "212401                                              Mamaw   \n",
       "212402                                  The Autograph Man   \n",
       "212403  Student's Solutions Manual for Johnson/Mowry's...   \n",
       "212403  Student's Solutions Manual for Johnson/Mowry's...   \n",
       "\n",
       "                                              description            authors  \\\n",
       "0                                                               Julie Strain   \n",
       "1       Philip Nel takes a fascinating look into the k...         Philip Nel   \n",
       "2       This resource includes twelve principles in un...       David R. Ray   \n",
       "3       Julia Thomas finds her life spinning out of co...    Veronica Haddon   \n",
       "4                                                                Edward Long   \n",
       "...                                                   ...                ...   \n",
       "212400  Everyone in the village of Friedensdorf is hap...                NaN   \n",
       "212401  Give your Mamaw a useful, beautiful and though...  Wild Wild Cabbage   \n",
       "212402  Alex-Li Tandem sells autographs. His business ...        Zadie Smith   \n",
       "212403  Discover the many ways mathematics is relevant...   David B. Johnson   \n",
       "212403  Discover the many ways mathematics is relevant...    Thomas A. Mowry   \n",
       "\n",
       "                       categories  \n",
       "0         Comics & Graphic Novels  \n",
       "1       Biography & Autobiography  \n",
       "2                        Religion  \n",
       "3                         Fiction  \n",
       "4                             NaN  \n",
       "...                           ...  \n",
       "212400           Juvenile Fiction  \n",
       "212401                        NaN  \n",
       "212402                    Fiction  \n",
       "212403                        NaN  \n",
       "212403                        NaN  \n",
       "\n",
       "[261515 rows x 4 columns]"
      ]
     },
     "execution_count": 8,
     "metadata": {},
     "output_type": "execute_result"
    }
   ],
   "source": [
    "books_data"
   ]
  }
 ],
 "metadata": {
  "kernelspec": {
   "display_name": "a3data_desafio",
   "language": "python",
   "name": "python3"
  },
  "language_info": {
   "codemirror_mode": {
    "name": "ipython",
    "version": 3
   },
   "file_extension": ".py",
   "mimetype": "text/x-python",
   "name": "python",
   "nbconvert_exporter": "python",
   "pygments_lexer": "ipython3",
   "version": "3.11.11"
  }
 },
 "nbformat": 4,
 "nbformat_minor": 2
}
