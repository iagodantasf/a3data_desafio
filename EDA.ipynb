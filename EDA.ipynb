{
 "cells": [
  {
   "cell_type": "markdown",
   "metadata": {},
   "source": [
    "# Exploratory Data Analysis (EDA)"
   ]
  },
  {
   "cell_type": "code",
   "execution_count": 1,
   "metadata": {},
   "outputs": [],
   "source": [
    "import pandas as pd"
   ]
  },
  {
   "cell_type": "markdown",
   "metadata": {},
   "source": [
    "## Books Rating"
   ]
  },
  {
   "cell_type": "code",
   "execution_count": 2,
   "metadata": {},
   "outputs": [],
   "source": [
    "books_rating = pd.read_csv('Books_rating.csv')"
   ]
  },
  {
   "cell_type": "code",
   "execution_count": 3,
   "metadata": {},
   "outputs": [
    {
     "data": {
      "text/plain": [
       "Index(['Id', 'Title', 'Price', 'User_id', 'profileName', 'score', 'time',\n",
       "       'summary', 'text'],\n",
       "      dtype='object')"
      ]
     },
     "execution_count": 3,
     "metadata": {},
     "output_type": "execute_result"
    }
   ],
   "source": [
    "books_rating.columns"
   ]
  },
  {
   "cell_type": "markdown",
   "metadata": {},
   "source": [
    "Renaming the columns:"
   ]
  },
  {
   "cell_type": "code",
   "execution_count": 4,
   "metadata": {},
   "outputs": [],
   "source": [
    "books_rating = (\n",
    "    books_rating\n",
    "    .rename(columns=lambda x:\n",
    "        'profile_name' if x == 'profileName'\n",
    "        else x.lower()\n",
    "    )\n",
    ")"
   ]
  },
  {
   "cell_type": "markdown",
   "metadata": {},
   "source": [
    "Checking for duplicated rows:"
   ]
  },
  {
   "cell_type": "code",
   "execution_count": 5,
   "metadata": {},
   "outputs": [
    {
     "data": {
      "text/plain": [
       "np.True_"
      ]
     },
     "execution_count": 5,
     "metadata": {},
     "output_type": "execute_result"
    }
   ],
   "source": [
    "books_rating.duplicated().any()"
   ]
  },
  {
   "cell_type": "markdown",
   "metadata": {},
   "source": [
    "Removing the duplicated rows:"
   ]
  },
  {
   "cell_type": "code",
   "execution_count": 6,
   "metadata": {},
   "outputs": [],
   "source": [
    "books_rating = books_rating.drop_duplicates()"
   ]
  },
  {
   "cell_type": "code",
   "execution_count": 7,
   "metadata": {},
   "outputs": [
    {
     "data": {
      "text/plain": [
       "(2978897, 9)"
      ]
     },
     "execution_count": 7,
     "metadata": {},
     "output_type": "execute_result"
    }
   ],
   "source": [
    "books_rating.shape"
   ]
  },
  {
   "cell_type": "code",
   "execution_count": 8,
   "metadata": {},
   "outputs": [
    {
     "data": {
      "text/html": [
       "<div>\n",
       "<style scoped>\n",
       "    .dataframe tbody tr th:only-of-type {\n",
       "        vertical-align: middle;\n",
       "    }\n",
       "\n",
       "    .dataframe tbody tr th {\n",
       "        vertical-align: top;\n",
       "    }\n",
       "\n",
       "    .dataframe thead th {\n",
       "        text-align: right;\n",
       "    }\n",
       "</style>\n",
       "<table border=\"1\" class=\"dataframe\">\n",
       "  <thead>\n",
       "    <tr style=\"text-align: right;\">\n",
       "      <th></th>\n",
       "      <th>id</th>\n",
       "      <th>title</th>\n",
       "      <th>price</th>\n",
       "      <th>user_id</th>\n",
       "      <th>profile_name</th>\n",
       "      <th>score</th>\n",
       "      <th>time</th>\n",
       "      <th>summary</th>\n",
       "      <th>text</th>\n",
       "    </tr>\n",
       "  </thead>\n",
       "  <tbody>\n",
       "    <tr>\n",
       "      <th>0</th>\n",
       "      <td>1882931173</td>\n",
       "      <td>Its Only Art If Its Well Hung!</td>\n",
       "      <td>NaN</td>\n",
       "      <td>AVCGYZL8FQQTD</td>\n",
       "      <td>Jim of Oz \"jim-of-oz\"</td>\n",
       "      <td>4.0</td>\n",
       "      <td>940636800</td>\n",
       "      <td>Nice collection of Julie Strain images</td>\n",
       "      <td>This is only for Julie Strain fans. It's a col...</td>\n",
       "    </tr>\n",
       "    <tr>\n",
       "      <th>1</th>\n",
       "      <td>0826414346</td>\n",
       "      <td>Dr. Seuss: American Icon</td>\n",
       "      <td>NaN</td>\n",
       "      <td>A30TK6U7DNS82R</td>\n",
       "      <td>Kevin Killian</td>\n",
       "      <td>5.0</td>\n",
       "      <td>1095724800</td>\n",
       "      <td>Really Enjoyed It</td>\n",
       "      <td>I don't care much for Dr. Seuss but after read...</td>\n",
       "    </tr>\n",
       "    <tr>\n",
       "      <th>2</th>\n",
       "      <td>0826414346</td>\n",
       "      <td>Dr. Seuss: American Icon</td>\n",
       "      <td>NaN</td>\n",
       "      <td>A3UH4UZ4RSVO82</td>\n",
       "      <td>John Granger</td>\n",
       "      <td>5.0</td>\n",
       "      <td>1078790400</td>\n",
       "      <td>Essential for every personal and Public Library</td>\n",
       "      <td>If people become the books they read and if \"t...</td>\n",
       "    </tr>\n",
       "    <tr>\n",
       "      <th>3</th>\n",
       "      <td>0826414346</td>\n",
       "      <td>Dr. Seuss: American Icon</td>\n",
       "      <td>NaN</td>\n",
       "      <td>A2MVUWT453QH61</td>\n",
       "      <td>Roy E. Perry \"amateur philosopher\"</td>\n",
       "      <td>4.0</td>\n",
       "      <td>1090713600</td>\n",
       "      <td>Phlip Nel gives silly Seuss a serious treatment</td>\n",
       "      <td>Theodore Seuss Geisel (1904-1991), aka &amp;quot;D...</td>\n",
       "    </tr>\n",
       "    <tr>\n",
       "      <th>4</th>\n",
       "      <td>0826414346</td>\n",
       "      <td>Dr. Seuss: American Icon</td>\n",
       "      <td>NaN</td>\n",
       "      <td>A22X4XUPKF66MR</td>\n",
       "      <td>D. H. Richards \"ninthwavestore\"</td>\n",
       "      <td>4.0</td>\n",
       "      <td>1107993600</td>\n",
       "      <td>Good academic overview</td>\n",
       "      <td>Philip Nel - Dr. Seuss: American IconThis is b...</td>\n",
       "    </tr>\n",
       "  </tbody>\n",
       "</table>\n",
       "</div>"
      ],
      "text/plain": [
       "           id                           title  price         user_id  \\\n",
       "0  1882931173  Its Only Art If Its Well Hung!    NaN   AVCGYZL8FQQTD   \n",
       "1  0826414346        Dr. Seuss: American Icon    NaN  A30TK6U7DNS82R   \n",
       "2  0826414346        Dr. Seuss: American Icon    NaN  A3UH4UZ4RSVO82   \n",
       "3  0826414346        Dr. Seuss: American Icon    NaN  A2MVUWT453QH61   \n",
       "4  0826414346        Dr. Seuss: American Icon    NaN  A22X4XUPKF66MR   \n",
       "\n",
       "                         profile_name  score        time  \\\n",
       "0               Jim of Oz \"jim-of-oz\"    4.0   940636800   \n",
       "1                       Kevin Killian    5.0  1095724800   \n",
       "2                        John Granger    5.0  1078790400   \n",
       "3  Roy E. Perry \"amateur philosopher\"    4.0  1090713600   \n",
       "4     D. H. Richards \"ninthwavestore\"    4.0  1107993600   \n",
       "\n",
       "                                           summary  \\\n",
       "0           Nice collection of Julie Strain images   \n",
       "1                                Really Enjoyed It   \n",
       "2  Essential for every personal and Public Library   \n",
       "3  Phlip Nel gives silly Seuss a serious treatment   \n",
       "4                           Good academic overview   \n",
       "\n",
       "                                                text  \n",
       "0  This is only for Julie Strain fans. It's a col...  \n",
       "1  I don't care much for Dr. Seuss but after read...  \n",
       "2  If people become the books they read and if \"t...  \n",
       "3  Theodore Seuss Geisel (1904-1991), aka &quot;D...  \n",
       "4  Philip Nel - Dr. Seuss: American IconThis is b...  "
      ]
     },
     "execution_count": 8,
     "metadata": {},
     "output_type": "execute_result"
    }
   ],
   "source": [
    "books_rating.head()"
   ]
  },
  {
   "cell_type": "markdown",
   "metadata": {},
   "source": [
    "Data types:"
   ]
  },
  {
   "cell_type": "code",
   "execution_count": 9,
   "metadata": {},
   "outputs": [
    {
     "data": {
      "text/plain": [
       "id               object\n",
       "title            object\n",
       "price           float64\n",
       "user_id          object\n",
       "profile_name     object\n",
       "score           float64\n",
       "time              int64\n",
       "summary          object\n",
       "text             object\n",
       "dtype: object"
      ]
     },
     "execution_count": 9,
     "metadata": {},
     "output_type": "execute_result"
    }
   ],
   "source": [
    "books_rating.dtypes"
   ]
  },
  {
   "cell_type": "markdown",
   "metadata": {},
   "source": [
    "Checking for NaN values:"
   ]
  },
  {
   "cell_type": "code",
   "execution_count": 10,
   "metadata": {},
   "outputs": [
    {
     "data": {
      "text/plain": [
       "id              False\n",
       "title            True\n",
       "price            True\n",
       "user_id          True\n",
       "profile_name     True\n",
       "score           False\n",
       "time            False\n",
       "summary          True\n",
       "text             True\n",
       "dtype: bool"
      ]
     },
     "execution_count": 10,
     "metadata": {},
     "output_type": "execute_result"
    }
   ],
   "source": [
    "books_rating.isna().any()"
   ]
  },
  {
   "cell_type": "markdown",
   "metadata": {},
   "source": [
    "Count of non-null values:"
   ]
  },
  {
   "cell_type": "code",
   "execution_count": 11,
   "metadata": {},
   "outputs": [
    {
     "data": {
      "text/plain": [
       "id              2978897\n",
       "title           2978689\n",
       "price            478827\n",
       "user_id         2424538\n",
       "profile_name    2424420\n",
       "score           2978897\n",
       "time            2978897\n",
       "summary         2978490\n",
       "text            2978889\n",
       "dtype: int64"
      ]
     },
     "execution_count": 11,
     "metadata": {},
     "output_type": "execute_result"
    }
   ],
   "source": [
    "books_rating.count()"
   ]
  },
  {
   "cell_type": "markdown",
   "metadata": {},
   "source": [
    "Trying to understand the ```id``` column:"
   ]
  },
  {
   "cell_type": "code",
   "execution_count": 12,
   "metadata": {},
   "outputs": [
    {
     "data": {
      "text/plain": [
       "np.True_"
      ]
     },
     "execution_count": 12,
     "metadata": {},
     "output_type": "execute_result"
    }
   ],
   "source": [
    "books_rating['id'].duplicated().any()"
   ]
  },
  {
   "cell_type": "code",
   "execution_count": 13,
   "metadata": {},
   "outputs": [
    {
     "data": {
      "text/plain": [
       "id       False\n",
       "title     True\n",
       "dtype: bool"
      ]
     },
     "execution_count": 13,
     "metadata": {},
     "output_type": "execute_result"
    }
   ],
   "source": [
    "(\n",
    "    books_rating[['id', 'title']]\n",
    "    .dropna(subset='title')\n",
    "    .drop_duplicates()\n",
    "    .apply(lambda col: col.duplicated().any())\n",
    ")"
   ]
  },
  {
   "cell_type": "markdown",
   "metadata": {},
   "source": [
    "For each id there is only one title. However, there are different ids for the same title, e.g.:"
   ]
  },
  {
   "cell_type": "code",
   "execution_count": 14,
   "metadata": {},
   "outputs": [
    {
     "data": {
      "text/plain": [
       "title\n",
       "Poems                           14\n",
       "Persuasion                      13\n",
       "Sermons on several occasions    12\n",
       "Great Expectations              11\n",
       "Pride and Prejudice             11\n",
       "Name: id, dtype: int64"
      ]
     },
     "execution_count": 14,
     "metadata": {},
     "output_type": "execute_result"
    }
   ],
   "source": [
    "(\n",
    "    books_rating[['id', 'title']]\n",
    "    .dropna(subset='title')\n",
    "    .drop_duplicates()\n",
    "    .groupby('title')['id'].count()\n",
    "    .sort_values(ascending=False)\n",
    "    .head(5)\n",
    ")"
   ]
  },
  {
   "cell_type": "code",
   "execution_count": 15,
   "metadata": {},
   "outputs": [
    {
     "data": {
      "text/html": [
       "<div>\n",
       "<style scoped>\n",
       "    .dataframe tbody tr th:only-of-type {\n",
       "        vertical-align: middle;\n",
       "    }\n",
       "\n",
       "    .dataframe tbody tr th {\n",
       "        vertical-align: top;\n",
       "    }\n",
       "\n",
       "    .dataframe thead th {\n",
       "        text-align: right;\n",
       "    }\n",
       "</style>\n",
       "<table border=\"1\" class=\"dataframe\">\n",
       "  <thead>\n",
       "    <tr style=\"text-align: right;\">\n",
       "      <th></th>\n",
       "      <th>id</th>\n",
       "      <th>title</th>\n",
       "      <th>price</th>\n",
       "      <th>user_id</th>\n",
       "      <th>profile_name</th>\n",
       "      <th>score</th>\n",
       "      <th>time</th>\n",
       "      <th>summary</th>\n",
       "      <th>text</th>\n",
       "    </tr>\n",
       "  </thead>\n",
       "  <tbody>\n",
       "    <tr>\n",
       "      <th>40221</th>\n",
       "      <td>B0006E8QBU</td>\n",
       "      <td>Poems</td>\n",
       "      <td>NaN</td>\n",
       "      <td>A2CPT04DPD2KKC</td>\n",
       "      <td>Judy Matthews \"ikanu\"</td>\n",
       "      <td>5.0</td>\n",
       "      <td>946425600</td>\n",
       "      <td>Poems by James Russell Lowell</td>\n",
       "      <td>The poetry in this book covers the full spectr...</td>\n",
       "    </tr>\n",
       "    <tr>\n",
       "      <th>104797</th>\n",
       "      <td>1852244925</td>\n",
       "      <td>Poems</td>\n",
       "      <td>NaN</td>\n",
       "      <td>A2I6V7JNUR85MQ</td>\n",
       "      <td>N. Dorward \"obsessive reviewer\"</td>\n",
       "      <td>5.0</td>\n",
       "      <td>961545600</td>\n",
       "      <td>A major poet</td>\n",
       "      <td>It's hard to know how to review this book: Pry...</td>\n",
       "    </tr>\n",
       "    <tr>\n",
       "      <th>104798</th>\n",
       "      <td>1852244925</td>\n",
       "      <td>Poems</td>\n",
       "      <td>NaN</td>\n",
       "      <td>A2PMCVAQC09I51</td>\n",
       "      <td>\"lexo-2x\"</td>\n",
       "      <td>5.0</td>\n",
       "      <td>956880000</td>\n",
       "      <td>Do ya like good music?</td>\n",
       "      <td>I personally think that being a lyric poet is ...</td>\n",
       "    </tr>\n",
       "    <tr>\n",
       "      <th>104799</th>\n",
       "      <td>1852244925</td>\n",
       "      <td>Poems</td>\n",
       "      <td>NaN</td>\n",
       "      <td>A14OJS0VWMOSWO</td>\n",
       "      <td>Midwest Book Review</td>\n",
       "      <td>5.0</td>\n",
       "      <td>1146528000</td>\n",
       "      <td>A highly recommended read for all dedicated po...</td>\n",
       "      <td>Poems is an inspired and inspirational collect...</td>\n",
       "    </tr>\n",
       "    <tr>\n",
       "      <th>104800</th>\n",
       "      <td>1852244925</td>\n",
       "      <td>Poems</td>\n",
       "      <td>NaN</td>\n",
       "      <td>A1JL75766ADDFU</td>\n",
       "      <td>\"k-command\"</td>\n",
       "      <td>5.0</td>\n",
       "      <td>1043625600</td>\n",
       "      <td>blow to the head</td>\n",
       "      <td>Shocking that only two reviews up for this. I ...</td>\n",
       "    </tr>\n",
       "  </tbody>\n",
       "</table>\n",
       "</div>"
      ],
      "text/plain": [
       "                id  title  price         user_id  \\\n",
       "40221   B0006E8QBU  Poems    NaN  A2CPT04DPD2KKC   \n",
       "104797  1852244925  Poems    NaN  A2I6V7JNUR85MQ   \n",
       "104798  1852244925  Poems    NaN  A2PMCVAQC09I51   \n",
       "104799  1852244925  Poems    NaN  A14OJS0VWMOSWO   \n",
       "104800  1852244925  Poems    NaN  A1JL75766ADDFU   \n",
       "\n",
       "                           profile_name  score        time  \\\n",
       "40221             Judy Matthews \"ikanu\"    5.0   946425600   \n",
       "104797  N. Dorward \"obsessive reviewer\"    5.0   961545600   \n",
       "104798                        \"lexo-2x\"    5.0   956880000   \n",
       "104799              Midwest Book Review    5.0  1146528000   \n",
       "104800                      \"k-command\"    5.0  1043625600   \n",
       "\n",
       "                                                  summary  \\\n",
       "40221                       Poems by James Russell Lowell   \n",
       "104797                                       A major poet   \n",
       "104798                             Do ya like good music?   \n",
       "104799  A highly recommended read for all dedicated po...   \n",
       "104800                                   blow to the head   \n",
       "\n",
       "                                                     text  \n",
       "40221   The poetry in this book covers the full spectr...  \n",
       "104797  It's hard to know how to review this book: Pry...  \n",
       "104798  I personally think that being a lyric poet is ...  \n",
       "104799  Poems is an inspired and inspirational collect...  \n",
       "104800  Shocking that only two reviews up for this. I ...  "
      ]
     },
     "execution_count": 15,
     "metadata": {},
     "output_type": "execute_result"
    }
   ],
   "source": [
    "books_rating.query('title == \"Poems\"').head()"
   ]
  },
  {
   "cell_type": "markdown",
   "metadata": {},
   "source": [
    "Duplicated values in the ```summary``` and ```text``` columns:"
   ]
  },
  {
   "cell_type": "code",
   "execution_count": 16,
   "metadata": {},
   "outputs": [],
   "source": [
    "# (\n",
    "#     books_rating\n",
    "#     .pipe(lambda df: df[df['text'].duplicated(keep=False)])\n",
    "#     .sort_values('text')\n",
    "#     .head()\n",
    "# )"
   ]
  },
  {
   "cell_type": "markdown",
   "metadata": {},
   "source": [
    "Number of rows that everything is duplicated, but the ```id``` column:"
   ]
  },
  {
   "cell_type": "code",
   "execution_count": 17,
   "metadata": {},
   "outputs": [
    {
     "data": {
      "text/plain": [
       "323170"
      ]
     },
     "execution_count": 17,
     "metadata": {},
     "output_type": "execute_result"
    }
   ],
   "source": [
    "(\n",
    "    books_rating.shape[0]\n",
    "    - books_rating.drop(columns='id').drop_duplicates().shape[0]\n",
    ")"
   ]
  },
  {
   "cell_type": "markdown",
   "metadata": {},
   "source": [
    "Example:"
   ]
  },
  {
   "cell_type": "code",
   "execution_count": 18,
   "metadata": {},
   "outputs": [
    {
     "data": {
      "text/html": [
       "<div>\n",
       "<style scoped>\n",
       "    .dataframe tbody tr th:only-of-type {\n",
       "        vertical-align: middle;\n",
       "    }\n",
       "\n",
       "    .dataframe tbody tr th {\n",
       "        vertical-align: top;\n",
       "    }\n",
       "\n",
       "    .dataframe thead th {\n",
       "        text-align: right;\n",
       "    }\n",
       "</style>\n",
       "<table border=\"1\" class=\"dataframe\">\n",
       "  <thead>\n",
       "    <tr style=\"text-align: right;\">\n",
       "      <th></th>\n",
       "      <th>id</th>\n",
       "      <th>title</th>\n",
       "      <th>price</th>\n",
       "      <th>user_id</th>\n",
       "      <th>profile_name</th>\n",
       "      <th>score</th>\n",
       "      <th>time</th>\n",
       "      <th>summary</th>\n",
       "      <th>text</th>\n",
       "    </tr>\n",
       "  </thead>\n",
       "  <tbody>\n",
       "    <tr>\n",
       "      <th>1322581</th>\n",
       "      <td>B000QEAR2Q</td>\n",
       "      <td>The Orthodox Church</td>\n",
       "      <td>NaN</td>\n",
       "      <td>A2D9IEFJGB483Q</td>\n",
       "      <td>Kendal B. Hunter</td>\n",
       "      <td>5.0</td>\n",
       "      <td>1006300800</td>\n",
       "      <td>Eastern Orthodoxy for Ignorants like me</td>\n",
       "      <td>!!!The book and what I found inside!!!This boo...</td>\n",
       "    </tr>\n",
       "    <tr>\n",
       "      <th>215598</th>\n",
       "      <td>B000EEW0LE</td>\n",
       "      <td>The Orthodox Church</td>\n",
       "      <td>NaN</td>\n",
       "      <td>A2D9IEFJGB483Q</td>\n",
       "      <td>Kendal B. Hunter</td>\n",
       "      <td>5.0</td>\n",
       "      <td>1006300800</td>\n",
       "      <td>Eastern Orthodoxy for Ignorants like me</td>\n",
       "      <td>!!!The book and what I found inside!!!This boo...</td>\n",
       "    </tr>\n",
       "  </tbody>\n",
       "</table>\n",
       "</div>"
      ],
      "text/plain": [
       "                 id                title  price         user_id  \\\n",
       "1322581  B000QEAR2Q  The Orthodox Church    NaN  A2D9IEFJGB483Q   \n",
       "215598   B000EEW0LE  The Orthodox Church    NaN  A2D9IEFJGB483Q   \n",
       "\n",
       "             profile_name  score        time  \\\n",
       "1322581  Kendal B. Hunter    5.0  1006300800   \n",
       "215598   Kendal B. Hunter    5.0  1006300800   \n",
       "\n",
       "                                         summary  \\\n",
       "1322581  Eastern Orthodoxy for Ignorants like me   \n",
       "215598   Eastern Orthodoxy for Ignorants like me   \n",
       "\n",
       "                                                      text  \n",
       "1322581  !!!The book and what I found inside!!!This boo...  \n",
       "215598   !!!The book and what I found inside!!!This boo...  "
      ]
     },
     "execution_count": 18,
     "metadata": {},
     "output_type": "execute_result"
    }
   ],
   "source": [
    "(\n",
    "    books_rating[\n",
    "        books_rating.drop(columns='id').duplicated(keep=False)\n",
    "    ]\n",
    "    .sort_values('text')\n",
    "    .iloc[:2]\n",
    ")"
   ]
  },
  {
   "cell_type": "code",
   "execution_count": 19,
   "metadata": {},
   "outputs": [
    {
     "data": {
      "text/html": [
       "<div>\n",
       "<style scoped>\n",
       "    .dataframe tbody tr th:only-of-type {\n",
       "        vertical-align: middle;\n",
       "    }\n",
       "\n",
       "    .dataframe tbody tr th {\n",
       "        vertical-align: top;\n",
       "    }\n",
       "\n",
       "    .dataframe thead th {\n",
       "        text-align: right;\n",
       "    }\n",
       "</style>\n",
       "<table border=\"1\" class=\"dataframe\">\n",
       "  <thead>\n",
       "    <tr style=\"text-align: right;\">\n",
       "      <th></th>\n",
       "      <th>self</th>\n",
       "      <th>other</th>\n",
       "    </tr>\n",
       "  </thead>\n",
       "  <tbody>\n",
       "    <tr>\n",
       "      <th>id</th>\n",
       "      <td>B000QEAR2Q</td>\n",
       "      <td>B000EEW0LE</td>\n",
       "    </tr>\n",
       "  </tbody>\n",
       "</table>\n",
       "</div>"
      ],
      "text/plain": [
       "          self       other\n",
       "id  B000QEAR2Q  B000EEW0LE"
      ]
     },
     "execution_count": 19,
     "metadata": {},
     "output_type": "execute_result"
    }
   ],
   "source": [
    "books_rating.loc[1322581].compare(books_rating.loc[215598])"
   ]
  },
  {
   "cell_type": "markdown",
   "metadata": {},
   "source": [
    "The same review is duplicated by the id."
   ]
  },
  {
   "cell_type": "markdown",
   "metadata": {},
   "source": [
    "It seems that the ```id``` column is not useful. Let's drop it."
   ]
  },
  {
   "cell_type": "code",
   "execution_count": 20,
   "metadata": {},
   "outputs": [],
   "source": [
    "books_rating = (\n",
    "    books_rating\n",
    "    .drop(columns='id')\n",
    "    .drop_duplicates()\n",
    ")"
   ]
  },
  {
   "cell_type": "code",
   "execution_count": 21,
   "metadata": {},
   "outputs": [
    {
     "data": {
      "text/html": [
       "<div>\n",
       "<style scoped>\n",
       "    .dataframe tbody tr th:only-of-type {\n",
       "        vertical-align: middle;\n",
       "    }\n",
       "\n",
       "    .dataframe tbody tr th {\n",
       "        vertical-align: top;\n",
       "    }\n",
       "\n",
       "    .dataframe thead th {\n",
       "        text-align: right;\n",
       "    }\n",
       "</style>\n",
       "<table border=\"1\" class=\"dataframe\">\n",
       "  <thead>\n",
       "    <tr style=\"text-align: right;\">\n",
       "      <th></th>\n",
       "      <th>title</th>\n",
       "      <th>price</th>\n",
       "      <th>user_id</th>\n",
       "      <th>profile_name</th>\n",
       "      <th>score</th>\n",
       "      <th>time</th>\n",
       "      <th>summary</th>\n",
       "      <th>text</th>\n",
       "    </tr>\n",
       "  </thead>\n",
       "  <tbody>\n",
       "    <tr>\n",
       "      <th>2875916</th>\n",
       "      <td>The Great Physician's Rx for Health and Wellne...</td>\n",
       "      <td>NaN</td>\n",
       "      <td>A2CVUD1KWW2TUT</td>\n",
       "      <td>Lv2Read</td>\n",
       "      <td>1.0</td>\n",
       "      <td>1144713600</td>\n",
       "      <td>You can't get in trouble over a book?</td>\n",
       "      <td>!!!March 9, 2006 Rubin's company was charged, ...</td>\n",
       "    </tr>\n",
       "    <tr>\n",
       "      <th>667463</th>\n",
       "      <td>The Great Physician's Rx for Health and Wellness</td>\n",
       "      <td>NaN</td>\n",
       "      <td>A2CVUD1KWW2TUT</td>\n",
       "      <td>Lv2Read</td>\n",
       "      <td>1.0</td>\n",
       "      <td>1144713600</td>\n",
       "      <td>You can't get in trouble over a book?</td>\n",
       "      <td>!!!March 9, 2006 Rubin's company was charged, ...</td>\n",
       "    </tr>\n",
       "    <tr>\n",
       "      <th>1688387</th>\n",
       "      <td>The electric kool-aid acid test</td>\n",
       "      <td>NaN</td>\n",
       "      <td>A25TJD77EBERPD</td>\n",
       "      <td>The Concise Critic:</td>\n",
       "      <td>3.0</td>\n",
       "      <td>1207180800</td>\n",
       "      <td>On The Road (part two)</td>\n",
       "      <td>!!Freeeeeeaky!! (Almost)::::datedSo, Tom Wolfe...</td>\n",
       "    </tr>\n",
       "    <tr>\n",
       "      <th>834032</th>\n",
       "      <td>The Electric Kool-Aid Acid Test</td>\n",
       "      <td>NaN</td>\n",
       "      <td>A25TJD77EBERPD</td>\n",
       "      <td>The Concise Critic:</td>\n",
       "      <td>3.0</td>\n",
       "      <td>1207180800</td>\n",
       "      <td>On The Road (part two)</td>\n",
       "      <td>!!Freeeeeeaky!! (Almost)::::datedSo, Tom Wolfe...</td>\n",
       "    </tr>\n",
       "    <tr>\n",
       "      <th>1098529</th>\n",
       "      <td>The adventures of Pinocchio, (Illustrated juni...</td>\n",
       "      <td>NaN</td>\n",
       "      <td>NaN</td>\n",
       "      <td>NaN</td>\n",
       "      <td>5.0</td>\n",
       "      <td>1003190400</td>\n",
       "      <td>A Book Review of &amp;quot;The Adventures of Pinno...</td>\n",
       "      <td>!!WOW!! Was that book great! !!WOW!! It deserv...</td>\n",
       "    </tr>\n",
       "  </tbody>\n",
       "</table>\n",
       "</div>"
      ],
      "text/plain": [
       "                                                     title  price  \\\n",
       "2875916  The Great Physician's Rx for Health and Wellne...    NaN   \n",
       "667463    The Great Physician's Rx for Health and Wellness    NaN   \n",
       "1688387                    The electric kool-aid acid test    NaN   \n",
       "834032                     The Electric Kool-Aid Acid Test    NaN   \n",
       "1098529  The adventures of Pinocchio, (Illustrated juni...    NaN   \n",
       "\n",
       "                user_id         profile_name  score        time  \\\n",
       "2875916  A2CVUD1KWW2TUT              Lv2Read    1.0  1144713600   \n",
       "667463   A2CVUD1KWW2TUT              Lv2Read    1.0  1144713600   \n",
       "1688387  A25TJD77EBERPD  The Concise Critic:    3.0  1207180800   \n",
       "834032   A25TJD77EBERPD  The Concise Critic:    3.0  1207180800   \n",
       "1098529             NaN                  NaN    5.0  1003190400   \n",
       "\n",
       "                                                   summary  \\\n",
       "2875916              You can't get in trouble over a book?   \n",
       "667463               You can't get in trouble over a book?   \n",
       "1688387                             On The Road (part two)   \n",
       "834032                              On The Road (part two)   \n",
       "1098529  A Book Review of &quot;The Adventures of Pinno...   \n",
       "\n",
       "                                                      text  \n",
       "2875916  !!!March 9, 2006 Rubin's company was charged, ...  \n",
       "667463   !!!March 9, 2006 Rubin's company was charged, ...  \n",
       "1688387  !!Freeeeeeaky!! (Almost)::::datedSo, Tom Wolfe...  \n",
       "834032   !!Freeeeeeaky!! (Almost)::::datedSo, Tom Wolfe...  \n",
       "1098529  !!WOW!! Was that book great! !!WOW!! It deserv...  "
      ]
     },
     "execution_count": 21,
     "metadata": {},
     "output_type": "execute_result"
    }
   ],
   "source": [
    "(\n",
    "    books_rating\n",
    "    .pipe(lambda df: df[df['text'].duplicated(keep=False)])\n",
    "    .sort_values('text')\n",
    "    .head()\n",
    ")"
   ]
  },
  {
   "cell_type": "markdown",
   "metadata": {},
   "source": [
    "As we can see above, there are rows almost identical, but with some differences in the title."
   ]
  },
  {
   "cell_type": "markdown",
   "metadata": {},
   "source": [
    "```user_id```, ```profile_name``` and ```time``` columns:"
   ]
  },
  {
   "cell_type": "code",
   "execution_count": 22,
   "metadata": {},
   "outputs": [
    {
     "data": {
      "text/plain": [
       "user_id         time      \n",
       "A1OQOAP4TLOTBE  1349740800    3\n",
       "AZB0DL867TNYW   1353369600    3\n",
       "A2K55QI7ZCXZGO  1358035200    2\n",
       "A3LW3QPSFICFQZ  1361491200    2\n",
       "AIGSF17EDUOQA   1353974400    2\n",
       "Name: profile_name, dtype: int64"
      ]
     },
     "execution_count": 22,
     "metadata": {},
     "output_type": "execute_result"
    }
   ],
   "source": [
    "(\n",
    "    books_rating[['user_id', 'profile_name', 'time']]\n",
    "    .drop_duplicates()\n",
    "    .groupby(['user_id', 'time'])['profile_name']\n",
    "    .count()\n",
    "    .sort_values(ascending=False)\n",
    "    .head()\n",
    ")"
   ]
  },
  {
   "cell_type": "markdown",
   "metadata": {},
   "source": [
    "Some user ids can have more than one profile name at the same time (strange...):"
   ]
  },
  {
   "cell_type": "code",
   "execution_count": 23,
   "metadata": {},
   "outputs": [
    {
     "data": {
      "text/html": [
       "<div>\n",
       "<style scoped>\n",
       "    .dataframe tbody tr th:only-of-type {\n",
       "        vertical-align: middle;\n",
       "    }\n",
       "\n",
       "    .dataframe tbody tr th {\n",
       "        vertical-align: top;\n",
       "    }\n",
       "\n",
       "    .dataframe thead th {\n",
       "        text-align: right;\n",
       "    }\n",
       "</style>\n",
       "<table border=\"1\" class=\"dataframe\">\n",
       "  <thead>\n",
       "    <tr style=\"text-align: right;\">\n",
       "      <th></th>\n",
       "      <th>title</th>\n",
       "      <th>price</th>\n",
       "      <th>user_id</th>\n",
       "      <th>profile_name</th>\n",
       "      <th>score</th>\n",
       "      <th>time</th>\n",
       "      <th>summary</th>\n",
       "      <th>text</th>\n",
       "    </tr>\n",
       "  </thead>\n",
       "  <tbody>\n",
       "    <tr>\n",
       "      <th>269723</th>\n",
       "      <td>Uglies (Uglies Trilogy, Book 1)</td>\n",
       "      <td>NaN</td>\n",
       "      <td>A1OQOAP4TLOTBE</td>\n",
       "      <td>Avanelle Perry</td>\n",
       "      <td>5.0</td>\n",
       "      <td>1349740800</td>\n",
       "      <td>Uglies</td>\n",
       "      <td>Like Matched and The Hunger Games, Uglies take...</td>\n",
       "    </tr>\n",
       "    <tr>\n",
       "      <th>1268035</th>\n",
       "      <td>Camilla</td>\n",
       "      <td>NaN</td>\n",
       "      <td>A1OQOAP4TLOTBE</td>\n",
       "      <td>Lila Marantz \"Martien Marantz\"</td>\n",
       "      <td>4.0</td>\n",
       "      <td>1349740800</td>\n",
       "      <td>Camilla</td>\n",
       "      <td>Camilla Dickinson is a fifteen year old girl w...</td>\n",
       "    </tr>\n",
       "    <tr>\n",
       "      <th>2132767</th>\n",
       "      <td>Messenger</td>\n",
       "      <td>NaN</td>\n",
       "      <td>A1OQOAP4TLOTBE</td>\n",
       "      <td>Martine</td>\n",
       "      <td>5.0</td>\n",
       "      <td>1349740800</td>\n",
       "      <td>Messenger</td>\n",
       "      <td>Messenger incorporates the characters of The G...</td>\n",
       "    </tr>\n",
       "  </tbody>\n",
       "</table>\n",
       "</div>"
      ],
      "text/plain": [
       "                                   title  price         user_id  \\\n",
       "269723   Uglies (Uglies Trilogy, Book 1)    NaN  A1OQOAP4TLOTBE   \n",
       "1268035                          Camilla    NaN  A1OQOAP4TLOTBE   \n",
       "2132767                        Messenger    NaN  A1OQOAP4TLOTBE   \n",
       "\n",
       "                           profile_name  score        time    summary  \\\n",
       "269723                   Avanelle Perry    5.0  1349740800     Uglies   \n",
       "1268035  Lila Marantz \"Martien Marantz\"    4.0  1349740800    Camilla   \n",
       "2132767                         Martine    5.0  1349740800  Messenger   \n",
       "\n",
       "                                                      text  \n",
       "269723   Like Matched and The Hunger Games, Uglies take...  \n",
       "1268035  Camilla Dickinson is a fifteen year old girl w...  \n",
       "2132767  Messenger incorporates the characters of The G...  "
      ]
     },
     "execution_count": 23,
     "metadata": {},
     "output_type": "execute_result"
    }
   ],
   "source": [
    "(\n",
    "    books_rating\n",
    "    .query('user_id == \"A1OQOAP4TLOTBE\" and time == 1349740800')\n",
    "    .drop_duplicates(subset='profile_name')\n",
    ")"
   ]
  },
  {
   "cell_type": "code",
   "execution_count": 24,
   "metadata": {},
   "outputs": [
    {
     "data": {
      "text/plain": [
       "profile_name  time      \n",
       "A Customer    1358035200    13\n",
       "              1295308800     9\n",
       "              1295222400     9\n",
       "              950745600      8\n",
       "              1293667200     8\n",
       "Name: user_id, dtype: int64"
      ]
     },
     "execution_count": 24,
     "metadata": {},
     "output_type": "execute_result"
    }
   ],
   "source": [
    "(\n",
    "    books_rating[['user_id', 'profile_name', 'time']]\n",
    "    .drop_duplicates()\n",
    "    .groupby(['profile_name', 'time'])['user_id']\n",
    "    .count()\n",
    "    .sort_values(ascending=False)\n",
    "    .head()\n",
    ")"
   ]
  },
  {
   "cell_type": "markdown",
   "metadata": {},
   "source": [
    "Also some profile names can have more than one user id at the same time."
   ]
  },
  {
   "cell_type": "markdown",
   "metadata": {},
   "source": [
    "To think: what defines an unique review?"
   ]
  },
  {
   "cell_type": "code",
   "execution_count": 25,
   "metadata": {},
   "outputs": [
    {
     "data": {
      "text/plain": [
       "np.False_"
      ]
     },
     "execution_count": 25,
     "metadata": {},
     "output_type": "execute_result"
    }
   ],
   "source": [
    "books_rating.duplicated().any()"
   ]
  },
  {
   "cell_type": "code",
   "execution_count": 26,
   "metadata": {},
   "outputs": [
    {
     "data": {
      "text/plain": [
       "np.True_"
      ]
     },
     "execution_count": 26,
     "metadata": {},
     "output_type": "execute_result"
    }
   ],
   "source": [
    "books_rating.drop(columns='profile_name').duplicated().any()"
   ]
  },
  {
   "cell_type": "code",
   "execution_count": 27,
   "metadata": {},
   "outputs": [
    {
     "data": {
      "text/html": [
       "<div>\n",
       "<style scoped>\n",
       "    .dataframe tbody tr th:only-of-type {\n",
       "        vertical-align: middle;\n",
       "    }\n",
       "\n",
       "    .dataframe tbody tr th {\n",
       "        vertical-align: top;\n",
       "    }\n",
       "\n",
       "    .dataframe thead th {\n",
       "        text-align: right;\n",
       "    }\n",
       "</style>\n",
       "<table border=\"1\" class=\"dataframe\">\n",
       "  <thead>\n",
       "    <tr style=\"text-align: right;\">\n",
       "      <th></th>\n",
       "      <th>title</th>\n",
       "      <th>price</th>\n",
       "      <th>user_id</th>\n",
       "      <th>profile_name</th>\n",
       "      <th>score</th>\n",
       "      <th>time</th>\n",
       "      <th>summary</th>\n",
       "      <th>text</th>\n",
       "    </tr>\n",
       "  </thead>\n",
       "  <tbody>\n",
       "    <tr>\n",
       "      <th>2849859</th>\n",
       "      <td>Girl in Hyacinth Blue</td>\n",
       "      <td>NaN</td>\n",
       "      <td>A2EGK0YRDF4ZZB</td>\n",
       "      <td>Sarah</td>\n",
       "      <td>5.0</td>\n",
       "      <td>1026604800</td>\n",
       "      <td>\"Girl in Hyacinth Blue\" an unexpected treat</td>\n",
       "      <td>\"Girl in Hyacinth Blue,\" like \"Girl With A Pea...</td>\n",
       "    </tr>\n",
       "    <tr>\n",
       "      <th>421458</th>\n",
       "      <td>Girl in Hyacinth Blue</td>\n",
       "      <td>NaN</td>\n",
       "      <td>A2EGK0YRDF4ZZB</td>\n",
       "      <td>S. Hodge</td>\n",
       "      <td>5.0</td>\n",
       "      <td>1026604800</td>\n",
       "      <td>\"Girl in Hyacinth Blue\" an unexpected treat</td>\n",
       "      <td>\"Girl in Hyacinth Blue,\" like \"Girl With A Pea...</td>\n",
       "    </tr>\n",
       "  </tbody>\n",
       "</table>\n",
       "</div>"
      ],
      "text/plain": [
       "                         title  price         user_id profile_name  score  \\\n",
       "2849859  Girl in Hyacinth Blue    NaN  A2EGK0YRDF4ZZB        Sarah    5.0   \n",
       "421458   Girl in Hyacinth Blue    NaN  A2EGK0YRDF4ZZB     S. Hodge    5.0   \n",
       "\n",
       "               time                                      summary  \\\n",
       "2849859  1026604800  \"Girl in Hyacinth Blue\" an unexpected treat   \n",
       "421458   1026604800  \"Girl in Hyacinth Blue\" an unexpected treat   \n",
       "\n",
       "                                                      text  \n",
       "2849859  \"Girl in Hyacinth Blue,\" like \"Girl With A Pea...  \n",
       "421458   \"Girl in Hyacinth Blue,\" like \"Girl With A Pea...  "
      ]
     },
     "execution_count": 27,
     "metadata": {},
     "output_type": "execute_result"
    }
   ],
   "source": [
    "(\n",
    "    books_rating[\n",
    "        books_rating.drop(columns='profile_name').duplicated(keep=False)\n",
    "    ]\n",
    "    .sort_values('text')\n",
    "    .iloc[:2]\n",
    ")"
   ]
  },
  {
   "cell_type": "markdown",
   "metadata": {},
   "source": [
    "As the cells above show, there are rows that only differ in the profile name. Let's drop the ```profile_name``` column."
   ]
  },
  {
   "cell_type": "code",
   "execution_count": 28,
   "metadata": {},
   "outputs": [],
   "source": [
    "books_rating = (\n",
    "    books_rating\n",
    "    .drop(columns='profile_name')\n",
    "    .drop_duplicates()\n",
    ")"
   ]
  },
  {
   "cell_type": "markdown",
   "metadata": {},
   "source": [
    "```summary``` and ```text``` columns:"
   ]
  },
  {
   "cell_type": "code",
   "execution_count": 29,
   "metadata": {},
   "outputs": [
    {
     "data": {
      "text/plain": [
       "np.False_"
      ]
     },
     "execution_count": 29,
     "metadata": {},
     "output_type": "execute_result"
    }
   ],
   "source": [
    "books_rating['summary'].isna().eq(books_rating['text'].isna()).all()"
   ]
  },
  {
   "cell_type": "markdown",
   "metadata": {},
   "source": [
    "There are rows with null values in the summary column but non-null values in the text column, e.g.:"
   ]
  },
  {
   "cell_type": "code",
   "execution_count": 30,
   "metadata": {},
   "outputs": [
    {
     "data": {
      "text/html": [
       "<div>\n",
       "<style scoped>\n",
       "    .dataframe tbody tr th:only-of-type {\n",
       "        vertical-align: middle;\n",
       "    }\n",
       "\n",
       "    .dataframe tbody tr th {\n",
       "        vertical-align: top;\n",
       "    }\n",
       "\n",
       "    .dataframe thead th {\n",
       "        text-align: right;\n",
       "    }\n",
       "</style>\n",
       "<table border=\"1\" class=\"dataframe\">\n",
       "  <thead>\n",
       "    <tr style=\"text-align: right;\">\n",
       "      <th></th>\n",
       "      <th>title</th>\n",
       "      <th>price</th>\n",
       "      <th>user_id</th>\n",
       "      <th>score</th>\n",
       "      <th>time</th>\n",
       "      <th>summary</th>\n",
       "      <th>text</th>\n",
       "    </tr>\n",
       "  </thead>\n",
       "  <tbody>\n",
       "    <tr>\n",
       "      <th>2104919</th>\n",
       "      <td>Domain (Domain Trilogy)</td>\n",
       "      <td>7.99</td>\n",
       "      <td>A3ERU38QO67XON</td>\n",
       "      <td>4.0</td>\n",
       "      <td>982368000</td>\n",
       "      <td>NaN</td>\n",
       "      <td>(Alten) singlehandedly out does Benchley, Cric...</td>\n",
       "    </tr>\n",
       "    <tr>\n",
       "      <th>871047</th>\n",
       "      <td>The Innocent Man: Murder and Injustice in a Sm...</td>\n",
       "      <td>NaN</td>\n",
       "      <td>A1V9WHAVZBTISF</td>\n",
       "      <td>4.0</td>\n",
       "      <td>1340668800</td>\n",
       "      <td>NaN</td>\n",
       "      <td>6-26-12: I'm about halfway through and trying ...</td>\n",
       "    </tr>\n",
       "    <tr>\n",
       "      <th>532719</th>\n",
       "      <td>Witness of Gor</td>\n",
       "      <td>NaN</td>\n",
       "      <td>A257E6TFB6FSPA</td>\n",
       "      <td>2.0</td>\n",
       "      <td>1356652800</td>\n",
       "      <td>NaN</td>\n",
       "      <td>80% commentary and 20% story line. I have read...</td>\n",
       "    </tr>\n",
       "    <tr>\n",
       "      <th>2109710</th>\n",
       "      <td>The Nerve of Foley, and Other Railroad Stories</td>\n",
       "      <td>NaN</td>\n",
       "      <td>A3F18AV35OSSN0</td>\n",
       "      <td>5.0</td>\n",
       "      <td>1329177600</td>\n",
       "      <td>NaN</td>\n",
       "      <td>A excellent series of short stories on how rai...</td>\n",
       "    </tr>\n",
       "    <tr>\n",
       "      <th>2245299</th>\n",
       "      <td>The Book of Garnishes</td>\n",
       "      <td>NaN</td>\n",
       "      <td>AC4XXR47TP883</td>\n",
       "      <td>2.0</td>\n",
       "      <td>1127692800</td>\n",
       "      <td>NaN</td>\n",
       "      <td>A good book for the beginner, nothing too comp...</td>\n",
       "    </tr>\n",
       "  </tbody>\n",
       "</table>\n",
       "</div>"
      ],
      "text/plain": [
       "                                                     title  price  \\\n",
       "2104919                            Domain (Domain Trilogy)   7.99   \n",
       "871047   The Innocent Man: Murder and Injustice in a Sm...    NaN   \n",
       "532719                                      Witness of Gor    NaN   \n",
       "2109710     The Nerve of Foley, and Other Railroad Stories    NaN   \n",
       "2245299                              The Book of Garnishes    NaN   \n",
       "\n",
       "                user_id  score        time summary  \\\n",
       "2104919  A3ERU38QO67XON    4.0   982368000     NaN   \n",
       "871047   A1V9WHAVZBTISF    4.0  1340668800     NaN   \n",
       "532719   A257E6TFB6FSPA    2.0  1356652800     NaN   \n",
       "2109710  A3F18AV35OSSN0    5.0  1329177600     NaN   \n",
       "2245299   AC4XXR47TP883    2.0  1127692800     NaN   \n",
       "\n",
       "                                                      text  \n",
       "2104919  (Alten) singlehandedly out does Benchley, Cric...  \n",
       "871047   6-26-12: I'm about halfway through and trying ...  \n",
       "532719   80% commentary and 20% story line. I have read...  \n",
       "2109710  A excellent series of short stories on how rai...  \n",
       "2245299  A good book for the beginner, nothing too comp...  "
      ]
     },
     "execution_count": 30,
     "metadata": {},
     "output_type": "execute_result"
    }
   ],
   "source": [
    "(\n",
    "    books_rating[\n",
    "        books_rating['summary'].isna()\n",
    "        & books_rating['text'].notna()\n",
    "    ]\n",
    "    .sort_values('text')\n",
    "    .head()\n",
    ")"
   ]
  },
  {
   "cell_type": "markdown",
   "metadata": {},
   "source": [
    "Also there are rows with null values in the text column but non-null values in the summary column, e.g.:"
   ]
  },
  {
   "cell_type": "code",
   "execution_count": 31,
   "metadata": {},
   "outputs": [
    {
     "data": {
      "text/html": [
       "<div>\n",
       "<style scoped>\n",
       "    .dataframe tbody tr th:only-of-type {\n",
       "        vertical-align: middle;\n",
       "    }\n",
       "\n",
       "    .dataframe tbody tr th {\n",
       "        vertical-align: top;\n",
       "    }\n",
       "\n",
       "    .dataframe thead th {\n",
       "        text-align: right;\n",
       "    }\n",
       "</style>\n",
       "<table border=\"1\" class=\"dataframe\">\n",
       "  <thead>\n",
       "    <tr style=\"text-align: right;\">\n",
       "      <th></th>\n",
       "      <th>title</th>\n",
       "      <th>price</th>\n",
       "      <th>user_id</th>\n",
       "      <th>score</th>\n",
       "      <th>time</th>\n",
       "      <th>summary</th>\n",
       "      <th>text</th>\n",
       "    </tr>\n",
       "  </thead>\n",
       "  <tbody>\n",
       "    <tr>\n",
       "      <th>469860</th>\n",
       "      <td>The Lord of the Rings - Boxed Set</td>\n",
       "      <td>NaN</td>\n",
       "      <td>NaN</td>\n",
       "      <td>5.0</td>\n",
       "      <td>938563200</td>\n",
       "      <td>have only one word to say read ths book</td>\n",
       "      <td>NaN</td>\n",
       "    </tr>\n",
       "    <tr>\n",
       "      <th>1139849</th>\n",
       "      <td>The Lord of the Rings Box Set</td>\n",
       "      <td>NaN</td>\n",
       "      <td>NaN</td>\n",
       "      <td>5.0</td>\n",
       "      <td>938563200</td>\n",
       "      <td>have only one word to say read ths book</td>\n",
       "      <td>NaN</td>\n",
       "    </tr>\n",
       "    <tr>\n",
       "      <th>1368032</th>\n",
       "      <td>The Lord of the Rings (3 Volume Set)</td>\n",
       "      <td>NaN</td>\n",
       "      <td>NaN</td>\n",
       "      <td>5.0</td>\n",
       "      <td>938563200</td>\n",
       "      <td>have only one word to say read ths book</td>\n",
       "      <td>NaN</td>\n",
       "    </tr>\n",
       "    <tr>\n",
       "      <th>1598329</th>\n",
       "      <td>The Lord of the Rings Trilogy (The Fellowship ...</td>\n",
       "      <td>NaN</td>\n",
       "      <td>NaN</td>\n",
       "      <td>5.0</td>\n",
       "      <td>938563200</td>\n",
       "      <td>have only one word to say read ths book</td>\n",
       "      <td>NaN</td>\n",
       "    </tr>\n",
       "    <tr>\n",
       "      <th>1771566</th>\n",
       "      <td>The Drive</td>\n",
       "      <td>NaN</td>\n",
       "      <td>A32VJTCIVOG88D</td>\n",
       "      <td>5.0</td>\n",
       "      <td>1136678400</td>\n",
       "      <td>Beautiful and Honest - read it 4 times so far</td>\n",
       "      <td>NaN</td>\n",
       "    </tr>\n",
       "  </tbody>\n",
       "</table>\n",
       "</div>"
      ],
      "text/plain": [
       "                                                     title  price  \\\n",
       "469860                   The Lord of the Rings - Boxed Set    NaN   \n",
       "1139849                      The Lord of the Rings Box Set    NaN   \n",
       "1368032               The Lord of the Rings (3 Volume Set)    NaN   \n",
       "1598329  The Lord of the Rings Trilogy (The Fellowship ...    NaN   \n",
       "1771566                                          The Drive    NaN   \n",
       "\n",
       "                user_id  score        time  \\\n",
       "469860              NaN    5.0   938563200   \n",
       "1139849             NaN    5.0   938563200   \n",
       "1368032             NaN    5.0   938563200   \n",
       "1598329             NaN    5.0   938563200   \n",
       "1771566  A32VJTCIVOG88D    5.0  1136678400   \n",
       "\n",
       "                                               summary text  \n",
       "469860         have only one word to say read ths book  NaN  \n",
       "1139849        have only one word to say read ths book  NaN  \n",
       "1368032        have only one word to say read ths book  NaN  \n",
       "1598329        have only one word to say read ths book  NaN  \n",
       "1771566  Beautiful and Honest - read it 4 times so far  NaN  "
      ]
     },
     "execution_count": 31,
     "metadata": {},
     "output_type": "execute_result"
    }
   ],
   "source": [
    "(\n",
    "    books_rating[\n",
    "        books_rating['summary'].notna()\n",
    "        & books_rating['text'].isna()\n",
    "    ]\n",
    "    .sort_values('text')\n",
    "    .head()\n",
    ")"
   ]
  },
  {
   "cell_type": "code",
   "execution_count": 32,
   "metadata": {},
   "outputs": [],
   "source": [
    "# useful_cols_rating = ['title', 'user_id', 'score', 'time', 'summary', 'text']"
   ]
  },
  {
   "cell_type": "code",
   "execution_count": 33,
   "metadata": {},
   "outputs": [
    {
     "data": {
      "text/plain": [
       "np.False_"
      ]
     },
     "execution_count": 33,
     "metadata": {},
     "output_type": "execute_result"
    }
   ],
   "source": [
    "books_rating.duplicated().any()"
   ]
  },
  {
   "cell_type": "code",
   "execution_count": 34,
   "metadata": {},
   "outputs": [
    {
     "data": {
      "text/plain": [
       "np.True_"
      ]
     },
     "execution_count": 34,
     "metadata": {},
     "output_type": "execute_result"
    }
   ],
   "source": [
    "books_rating.drop(columns='price').duplicated().any()"
   ]
  },
  {
   "cell_type": "markdown",
   "metadata": {},
   "source": [
    "There are rows that only differ in the price:"
   ]
  },
  {
   "cell_type": "code",
   "execution_count": 35,
   "metadata": {},
   "outputs": [
    {
     "data": {
      "text/html": [
       "<div>\n",
       "<style scoped>\n",
       "    .dataframe tbody tr th:only-of-type {\n",
       "        vertical-align: middle;\n",
       "    }\n",
       "\n",
       "    .dataframe tbody tr th {\n",
       "        vertical-align: top;\n",
       "    }\n",
       "\n",
       "    .dataframe thead th {\n",
       "        text-align: right;\n",
       "    }\n",
       "</style>\n",
       "<table border=\"1\" class=\"dataframe\">\n",
       "  <thead>\n",
       "    <tr style=\"text-align: right;\">\n",
       "      <th></th>\n",
       "      <th>title</th>\n",
       "      <th>price</th>\n",
       "      <th>user_id</th>\n",
       "      <th>score</th>\n",
       "      <th>time</th>\n",
       "      <th>summary</th>\n",
       "      <th>text</th>\n",
       "    </tr>\n",
       "  </thead>\n",
       "  <tbody>\n",
       "    <tr>\n",
       "      <th>275311</th>\n",
       "      <td>Believing God</td>\n",
       "      <td>24.44</td>\n",
       "      <td>A2MN6QFG773V93</td>\n",
       "      <td>5.0</td>\n",
       "      <td>1191283200</td>\n",
       "      <td>I'm Believing God!!!!</td>\n",
       "      <td>\" Believing God\" teaches Christians to not jus...</td>\n",
       "    </tr>\n",
       "    <tr>\n",
       "      <th>283433</th>\n",
       "      <td>Believing God</td>\n",
       "      <td>NaN</td>\n",
       "      <td>A2MN6QFG773V93</td>\n",
       "      <td>5.0</td>\n",
       "      <td>1191283200</td>\n",
       "      <td>I'm Believing God!!!!</td>\n",
       "      <td>\" Believing God\" teaches Christians to not jus...</td>\n",
       "    </tr>\n",
       "  </tbody>\n",
       "</table>\n",
       "</div>"
      ],
      "text/plain": [
       "                title  price         user_id  score        time  \\\n",
       "275311  Believing God  24.44  A2MN6QFG773V93    5.0  1191283200   \n",
       "283433  Believing God    NaN  A2MN6QFG773V93    5.0  1191283200   \n",
       "\n",
       "                      summary  \\\n",
       "275311  I'm Believing God!!!!   \n",
       "283433  I'm Believing God!!!!   \n",
       "\n",
       "                                                     text  \n",
       "275311  \" Believing God\" teaches Christians to not jus...  \n",
       "283433  \" Believing God\" teaches Christians to not jus...  "
      ]
     },
     "execution_count": 35,
     "metadata": {},
     "output_type": "execute_result"
    }
   ],
   "source": [
    "(\n",
    "    books_rating[\n",
    "        books_rating.drop(columns='price').duplicated(keep=False)\n",
    "    ]\n",
    "    .sort_values('text')\n",
    "    .iloc[:2]\n",
    ")"
   ]
  },
  {
   "cell_type": "code",
   "execution_count": 36,
   "metadata": {},
   "outputs": [
    {
     "data": {
      "text/html": [
       "<div>\n",
       "<style scoped>\n",
       "    .dataframe tbody tr th:only-of-type {\n",
       "        vertical-align: middle;\n",
       "    }\n",
       "\n",
       "    .dataframe tbody tr th {\n",
       "        vertical-align: top;\n",
       "    }\n",
       "\n",
       "    .dataframe thead th {\n",
       "        text-align: right;\n",
       "    }\n",
       "</style>\n",
       "<table border=\"1\" class=\"dataframe\">\n",
       "  <thead>\n",
       "    <tr style=\"text-align: right;\">\n",
       "      <th></th>\n",
       "      <th>title</th>\n",
       "      <th>price</th>\n",
       "      <th>user_id</th>\n",
       "      <th>score</th>\n",
       "      <th>time</th>\n",
       "      <th>summary</th>\n",
       "      <th>text</th>\n",
       "    </tr>\n",
       "  </thead>\n",
       "  <tbody>\n",
       "    <tr>\n",
       "      <th>1907621</th>\n",
       "      <td>The Awakening</td>\n",
       "      <td>32.95</td>\n",
       "      <td>A1DE875S68SSPX</td>\n",
       "      <td>4.0</td>\n",
       "      <td>1342137600</td>\n",
       "      <td>A Creole Mme Bovary</td>\n",
       "      <td>\"A Creole Bovary,\" is how Willa Cather describ...</td>\n",
       "    </tr>\n",
       "    <tr>\n",
       "      <th>1730380</th>\n",
       "      <td>The Awakening</td>\n",
       "      <td>24.21</td>\n",
       "      <td>A1DE875S68SSPX</td>\n",
       "      <td>4.0</td>\n",
       "      <td>1342137600</td>\n",
       "      <td>A Creole Mme Bovary</td>\n",
       "      <td>\"A Creole Bovary,\" is how Willa Cather describ...</td>\n",
       "    </tr>\n",
       "  </tbody>\n",
       "</table>\n",
       "</div>"
      ],
      "text/plain": [
       "                 title  price         user_id  score        time  \\\n",
       "1907621  The Awakening  32.95  A1DE875S68SSPX    4.0  1342137600   \n",
       "1730380  The Awakening  24.21  A1DE875S68SSPX    4.0  1342137600   \n",
       "\n",
       "                     summary  \\\n",
       "1907621  A Creole Mme Bovary   \n",
       "1730380  A Creole Mme Bovary   \n",
       "\n",
       "                                                      text  \n",
       "1907621  \"A Creole Bovary,\" is how Willa Cather describ...  \n",
       "1730380  \"A Creole Bovary,\" is how Willa Cather describ...  "
      ]
     },
     "execution_count": 36,
     "metadata": {},
     "output_type": "execute_result"
    }
   ],
   "source": [
    "_df = books_rating.dropna(subset='price')\n",
    "(\n",
    "    _df[\n",
    "        _df.drop(columns='price').duplicated(keep=False)\n",
    "    ]\n",
    "    .sort_values('text')\n",
    "    .iloc[:2]\n",
    ")"
   ]
  },
  {
   "cell_type": "code",
   "execution_count": 37,
   "metadata": {},
   "outputs": [
    {
     "data": {
      "text/html": [
       "<div>\n",
       "<style scoped>\n",
       "    .dataframe tbody tr th:only-of-type {\n",
       "        vertical-align: middle;\n",
       "    }\n",
       "\n",
       "    .dataframe tbody tr th {\n",
       "        vertical-align: top;\n",
       "    }\n",
       "\n",
       "    .dataframe thead th {\n",
       "        text-align: right;\n",
       "    }\n",
       "</style>\n",
       "<table border=\"1\" class=\"dataframe\">\n",
       "  <thead>\n",
       "    <tr style=\"text-align: right;\">\n",
       "      <th></th>\n",
       "      <th>self</th>\n",
       "      <th>other</th>\n",
       "    </tr>\n",
       "  </thead>\n",
       "  <tbody>\n",
       "    <tr>\n",
       "      <th>price</th>\n",
       "      <td>32.95</td>\n",
       "      <td>24.21</td>\n",
       "    </tr>\n",
       "  </tbody>\n",
       "</table>\n",
       "</div>"
      ],
      "text/plain": [
       "        self  other\n",
       "price  32.95  24.21"
      ]
     },
     "execution_count": 37,
     "metadata": {},
     "output_type": "execute_result"
    }
   ],
   "source": [
    "books_rating.loc[1907621].compare(books_rating.loc[1730380])"
   ]
  },
  {
   "cell_type": "markdown",
   "metadata": {},
   "source": [
    "Let's drop the ```price``` column."
   ]
  },
  {
   "cell_type": "code",
   "execution_count": 38,
   "metadata": {},
   "outputs": [],
   "source": [
    "books_rating = (\n",
    "    books_rating\n",
    "    .drop(columns='price')\n",
    "    .drop_duplicates()\n",
    ")"
   ]
  },
  {
   "cell_type": "markdown",
   "metadata": {},
   "source": [
    "Let's do some more checking on duplicates"
   ]
  },
  {
   "cell_type": "code",
   "execution_count": 39,
   "metadata": {},
   "outputs": [
    {
     "data": {
      "text/plain": [
       "np.False_"
      ]
     },
     "execution_count": 39,
     "metadata": {},
     "output_type": "execute_result"
    }
   ],
   "source": [
    "books_rating.duplicated().any()"
   ]
  },
  {
   "cell_type": "code",
   "execution_count": 40,
   "metadata": {},
   "outputs": [
    {
     "data": {
      "text/plain": [
       "np.True_"
      ]
     },
     "execution_count": 40,
     "metadata": {},
     "output_type": "execute_result"
    }
   ],
   "source": [
    "books_rating.drop(columns='score').duplicated().any()"
   ]
  },
  {
   "cell_type": "code",
   "execution_count": 41,
   "metadata": {},
   "outputs": [
    {
     "data": {
      "text/html": [
       "<div>\n",
       "<style scoped>\n",
       "    .dataframe tbody tr th:only-of-type {\n",
       "        vertical-align: middle;\n",
       "    }\n",
       "\n",
       "    .dataframe tbody tr th {\n",
       "        vertical-align: top;\n",
       "    }\n",
       "\n",
       "    .dataframe thead th {\n",
       "        text-align: right;\n",
       "    }\n",
       "</style>\n",
       "<table border=\"1\" class=\"dataframe\">\n",
       "  <thead>\n",
       "    <tr style=\"text-align: right;\">\n",
       "      <th></th>\n",
       "      <th>title</th>\n",
       "      <th>user_id</th>\n",
       "      <th>score</th>\n",
       "      <th>time</th>\n",
       "      <th>summary</th>\n",
       "      <th>text</th>\n",
       "    </tr>\n",
       "  </thead>\n",
       "  <tbody>\n",
       "    <tr>\n",
       "      <th>333322</th>\n",
       "      <td>Out of the Dust</td>\n",
       "      <td>A2EEAHFEIX0MP6</td>\n",
       "      <td>3.0</td>\n",
       "      <td>979257600</td>\n",
       "      <td>Out of the Dust</td>\n",
       "      <td>\"The rain has brought back some grass and the ...</td>\n",
       "    </tr>\n",
       "    <tr>\n",
       "      <th>333321</th>\n",
       "      <td>Out of the Dust</td>\n",
       "      <td>A2EEAHFEIX0MP6</td>\n",
       "      <td>4.0</td>\n",
       "      <td>979257600</td>\n",
       "      <td>Out of the Dust</td>\n",
       "      <td>\"The rain has brought back some grass and the ...</td>\n",
       "    </tr>\n",
       "  </tbody>\n",
       "</table>\n",
       "</div>"
      ],
      "text/plain": [
       "                  title         user_id  score       time          summary  \\\n",
       "333322  Out of the Dust  A2EEAHFEIX0MP6    3.0  979257600  Out of the Dust   \n",
       "333321  Out of the Dust  A2EEAHFEIX0MP6    4.0  979257600  Out of the Dust   \n",
       "\n",
       "                                                     text  \n",
       "333322  \"The rain has brought back some grass and the ...  \n",
       "333321  \"The rain has brought back some grass and the ...  "
      ]
     },
     "execution_count": 41,
     "metadata": {},
     "output_type": "execute_result"
    }
   ],
   "source": [
    "(\n",
    "    books_rating[\n",
    "        books_rating.drop(columns='score').duplicated(keep=False)\n",
    "    ]\n",
    "    .sort_values('text')\n",
    "    .loc[[333322, 333321]]\n",
    ")"
   ]
  },
  {
   "cell_type": "markdown",
   "metadata": {},
   "source": [
    "It is strange that there are rows that only differ in the score. We can use the mean."
   ]
  },
  {
   "cell_type": "code",
   "execution_count": 42,
   "metadata": {},
   "outputs": [
    {
     "data": {
      "text/plain": [
       "np.True_"
      ]
     },
     "execution_count": 42,
     "metadata": {},
     "output_type": "execute_result"
    }
   ],
   "source": [
    "books_rating.drop(columns='user_id').duplicated().any()"
   ]
  },
  {
   "cell_type": "code",
   "execution_count": 43,
   "metadata": {},
   "outputs": [
    {
     "data": {
      "text/html": [
       "<div>\n",
       "<style scoped>\n",
       "    .dataframe tbody tr th:only-of-type {\n",
       "        vertical-align: middle;\n",
       "    }\n",
       "\n",
       "    .dataframe tbody tr th {\n",
       "        vertical-align: top;\n",
       "    }\n",
       "\n",
       "    .dataframe thead th {\n",
       "        text-align: right;\n",
       "    }\n",
       "</style>\n",
       "<table border=\"1\" class=\"dataframe\">\n",
       "  <thead>\n",
       "    <tr style=\"text-align: right;\">\n",
       "      <th></th>\n",
       "      <th>title</th>\n",
       "      <th>user_id</th>\n",
       "      <th>score</th>\n",
       "      <th>time</th>\n",
       "      <th>summary</th>\n",
       "      <th>text</th>\n",
       "    </tr>\n",
       "  </thead>\n",
       "  <tbody>\n",
       "    <tr>\n",
       "      <th>1762172</th>\n",
       "      <td>Letters For Sarah</td>\n",
       "      <td>AOE6JPNQYZXFI</td>\n",
       "      <td>5.0</td>\n",
       "      <td>1078790400</td>\n",
       "      <td>Compelling</td>\n",
       "      <td>\"Letters For Sarah\" by Susan Kay is a wonderfu...</td>\n",
       "    </tr>\n",
       "    <tr>\n",
       "      <th>1762175</th>\n",
       "      <td>Letters For Sarah</td>\n",
       "      <td>A14CNGB2LGS9WL</td>\n",
       "      <td>5.0</td>\n",
       "      <td>1078790400</td>\n",
       "      <td>Compelling</td>\n",
       "      <td>\"Letters For Sarah\" by Susan Kay is a wonderfu...</td>\n",
       "    </tr>\n",
       "  </tbody>\n",
       "</table>\n",
       "</div>"
      ],
      "text/plain": [
       "                     title         user_id  score        time     summary  \\\n",
       "1762172  Letters For Sarah   AOE6JPNQYZXFI    5.0  1078790400  Compelling   \n",
       "1762175  Letters For Sarah  A14CNGB2LGS9WL    5.0  1078790400  Compelling   \n",
       "\n",
       "                                                      text  \n",
       "1762172  \"Letters For Sarah\" by Susan Kay is a wonderfu...  \n",
       "1762175  \"Letters For Sarah\" by Susan Kay is a wonderfu...  "
      ]
     },
     "execution_count": 43,
     "metadata": {},
     "output_type": "execute_result"
    }
   ],
   "source": [
    "(\n",
    "    books_rating[\n",
    "        books_rating.drop(columns='user_id').duplicated(keep=False)\n",
    "    ]\n",
    "    .sort_values('text')\n",
    "    .loc[[1762172, 1762175]]\n",
    ")"
   ]
  },
  {
   "cell_type": "markdown",
   "metadata": {},
   "source": [
    "It is also strange that there are rows that only differ in the user id, though it is possible... We are going to let that be allowed."
   ]
  },
  {
   "cell_type": "code",
   "execution_count": 44,
   "metadata": {},
   "outputs": [
    {
     "data": {
      "text/plain": [
       "np.True_"
      ]
     },
     "execution_count": 44,
     "metadata": {},
     "output_type": "execute_result"
    }
   ],
   "source": [
    "books_rating.drop(columns='time').duplicated().any()"
   ]
  },
  {
   "cell_type": "code",
   "execution_count": 45,
   "metadata": {},
   "outputs": [
    {
     "data": {
      "text/html": [
       "<div>\n",
       "<style scoped>\n",
       "    .dataframe tbody tr th:only-of-type {\n",
       "        vertical-align: middle;\n",
       "    }\n",
       "\n",
       "    .dataframe tbody tr th {\n",
       "        vertical-align: top;\n",
       "    }\n",
       "\n",
       "    .dataframe thead th {\n",
       "        text-align: right;\n",
       "    }\n",
       "</style>\n",
       "<table border=\"1\" class=\"dataframe\">\n",
       "  <thead>\n",
       "    <tr style=\"text-align: right;\">\n",
       "      <th></th>\n",
       "      <th>title</th>\n",
       "      <th>user_id</th>\n",
       "      <th>score</th>\n",
       "      <th>time</th>\n",
       "      <th>summary</th>\n",
       "      <th>text</th>\n",
       "    </tr>\n",
       "  </thead>\n",
       "  <tbody>\n",
       "    <tr>\n",
       "      <th>1018327</th>\n",
       "      <td>A Bed for the Night</td>\n",
       "      <td>A6MOYDXU7Y17P</td>\n",
       "      <td>4.0</td>\n",
       "      <td>1338854400</td>\n",
       "      <td>An inspirational shot in the arm</td>\n",
       "      <td>\"A Bed for the Night: The Story of the Wheelin...</td>\n",
       "    </tr>\n",
       "    <tr>\n",
       "      <th>1018328</th>\n",
       "      <td>A Bed for the Night</td>\n",
       "      <td>A6MOYDXU7Y17P</td>\n",
       "      <td>4.0</td>\n",
       "      <td>1332460800</td>\n",
       "      <td>An inspirational shot in the arm</td>\n",
       "      <td>\"A Bed for the Night: The Story of the Wheelin...</td>\n",
       "    </tr>\n",
       "  </tbody>\n",
       "</table>\n",
       "</div>"
      ],
      "text/plain": [
       "                       title        user_id  score        time  \\\n",
       "1018327  A Bed for the Night  A6MOYDXU7Y17P    4.0  1338854400   \n",
       "1018328  A Bed for the Night  A6MOYDXU7Y17P    4.0  1332460800   \n",
       "\n",
       "                                  summary  \\\n",
       "1018327  An inspirational shot in the arm   \n",
       "1018328  An inspirational shot in the arm   \n",
       "\n",
       "                                                      text  \n",
       "1018327  \"A Bed for the Night: The Story of the Wheelin...  \n",
       "1018328  \"A Bed for the Night: The Story of the Wheelin...  "
      ]
     },
     "execution_count": 45,
     "metadata": {},
     "output_type": "execute_result"
    }
   ],
   "source": [
    "(\n",
    "    books_rating[\n",
    "        books_rating.drop(columns='time').duplicated(keep=False)\n",
    "    ]\n",
    "    .sort_values('text')\n",
    "    .loc[[1018327, 1018328]]\n",
    ")"
   ]
  },
  {
   "cell_type": "markdown",
   "metadata": {},
   "source": [
    "The same review in different times. That will not be allowed by default, but it can be a hyperparameter of the data preprocessing."
   ]
  },
  {
   "cell_type": "code",
   "execution_count": 46,
   "metadata": {},
   "outputs": [
    {
     "data": {
      "text/plain": [
       "np.True_"
      ]
     },
     "execution_count": 46,
     "metadata": {},
     "output_type": "execute_result"
    }
   ],
   "source": [
    "books_rating.drop(columns='summary').duplicated().any()"
   ]
  },
  {
   "cell_type": "code",
   "execution_count": 47,
   "metadata": {},
   "outputs": [
    {
     "data": {
      "text/html": [
       "<div>\n",
       "<style scoped>\n",
       "    .dataframe tbody tr th:only-of-type {\n",
       "        vertical-align: middle;\n",
       "    }\n",
       "\n",
       "    .dataframe tbody tr th {\n",
       "        vertical-align: top;\n",
       "    }\n",
       "\n",
       "    .dataframe thead th {\n",
       "        text-align: right;\n",
       "    }\n",
       "</style>\n",
       "<table border=\"1\" class=\"dataframe\">\n",
       "  <thead>\n",
       "    <tr style=\"text-align: right;\">\n",
       "      <th></th>\n",
       "      <th>title</th>\n",
       "      <th>user_id</th>\n",
       "      <th>score</th>\n",
       "      <th>time</th>\n",
       "      <th>summary</th>\n",
       "      <th>text</th>\n",
       "    </tr>\n",
       "  </thead>\n",
       "  <tbody>\n",
       "    <tr>\n",
       "      <th>2865822</th>\n",
       "      <td>Glacier pilot;: The story of Bob Reeve and the...</td>\n",
       "      <td>A2L7N2U5Z316ZE</td>\n",
       "      <td>5.0</td>\n",
       "      <td>1248048000</td>\n",
       "      <td>Bush Pilot Supreme</td>\n",
       "      <td>\"...the rousing story of Bob Reeve, Alaska's f...</td>\n",
       "    </tr>\n",
       "    <tr>\n",
       "      <th>2865823</th>\n",
       "      <td>Glacier pilot;: The story of Bob Reeve and the...</td>\n",
       "      <td>A2L7N2U5Z316ZE</td>\n",
       "      <td>5.0</td>\n",
       "      <td>1248048000</td>\n",
       "      <td>Flying in a Wilderness</td>\n",
       "      <td>\"...the rousing story of Bob Reeve, Alaska's f...</td>\n",
       "    </tr>\n",
       "  </tbody>\n",
       "</table>\n",
       "</div>"
      ],
      "text/plain": [
       "                                                     title         user_id  \\\n",
       "2865822  Glacier pilot;: The story of Bob Reeve and the...  A2L7N2U5Z316ZE   \n",
       "2865823  Glacier pilot;: The story of Bob Reeve and the...  A2L7N2U5Z316ZE   \n",
       "\n",
       "         score        time                 summary  \\\n",
       "2865822    5.0  1248048000      Bush Pilot Supreme   \n",
       "2865823    5.0  1248048000  Flying in a Wilderness   \n",
       "\n",
       "                                                      text  \n",
       "2865822  \"...the rousing story of Bob Reeve, Alaska's f...  \n",
       "2865823  \"...the rousing story of Bob Reeve, Alaska's f...  "
      ]
     },
     "execution_count": 47,
     "metadata": {},
     "output_type": "execute_result"
    }
   ],
   "source": [
    "(\n",
    "    books_rating[\n",
    "        books_rating.drop(columns='summary').duplicated(keep=False)\n",
    "    ]\n",
    "    .sort_values('text')\n",
    "    .loc[[2865822, 2865823]]\n",
    ")"
   ]
  },
  {
   "cell_type": "markdown",
   "metadata": {},
   "source": [
    "They only differ in the ```summary``` column."
   ]
  },
  {
   "cell_type": "code",
   "execution_count": 48,
   "metadata": {},
   "outputs": [
    {
     "data": {
      "text/plain": [
       "np.True_"
      ]
     },
     "execution_count": 48,
     "metadata": {},
     "output_type": "execute_result"
    }
   ],
   "source": [
    "books_rating.drop(columns='text').duplicated().any()"
   ]
  },
  {
   "cell_type": "code",
   "execution_count": 49,
   "metadata": {},
   "outputs": [
    {
     "data": {
      "text/html": [
       "<div>\n",
       "<style scoped>\n",
       "    .dataframe tbody tr th:only-of-type {\n",
       "        vertical-align: middle;\n",
       "    }\n",
       "\n",
       "    .dataframe tbody tr th {\n",
       "        vertical-align: top;\n",
       "    }\n",
       "\n",
       "    .dataframe thead th {\n",
       "        text-align: right;\n",
       "    }\n",
       "</style>\n",
       "<table border=\"1\" class=\"dataframe\">\n",
       "  <thead>\n",
       "    <tr style=\"text-align: right;\">\n",
       "      <th></th>\n",
       "      <th>title</th>\n",
       "      <th>user_id</th>\n",
       "      <th>score</th>\n",
       "      <th>time</th>\n",
       "      <th>summary</th>\n",
       "      <th>text</th>\n",
       "    </tr>\n",
       "  </thead>\n",
       "  <tbody>\n",
       "    <tr>\n",
       "      <th>162</th>\n",
       "      <td>History of Magic and the Occult</td>\n",
       "      <td>AMKC1EJBUXDS2</td>\n",
       "      <td>5.0</td>\n",
       "      <td>989107200</td>\n",
       "      <td>a bibliophiliac wedding of the SURREALIST &amp;amp...</td>\n",
       "      <td>Kurt Seligmann, Surrealist artist par excellen...</td>\n",
       "    </tr>\n",
       "    <tr>\n",
       "      <th>164</th>\n",
       "      <td>History of Magic and the Occult</td>\n",
       "      <td>AMKC1EJBUXDS2</td>\n",
       "      <td>5.0</td>\n",
       "      <td>989107200</td>\n",
       "      <td>a bibliophiliac wedding of the SURREALIST &amp;amp...</td>\n",
       "      <td>Kurt Seligmann, Surrealist artist par excellen...</td>\n",
       "    </tr>\n",
       "  </tbody>\n",
       "</table>\n",
       "</div>"
      ],
      "text/plain": [
       "                               title        user_id  score       time  \\\n",
       "162  History of Magic and the Occult  AMKC1EJBUXDS2    5.0  989107200   \n",
       "164  History of Magic and the Occult  AMKC1EJBUXDS2    5.0  989107200   \n",
       "\n",
       "                                               summary  \\\n",
       "162  a bibliophiliac wedding of the SURREALIST &amp...   \n",
       "164  a bibliophiliac wedding of the SURREALIST &amp...   \n",
       "\n",
       "                                                  text  \n",
       "162  Kurt Seligmann, Surrealist artist par excellen...  \n",
       "164  Kurt Seligmann, Surrealist artist par excellen...  "
      ]
     },
     "execution_count": 49,
     "metadata": {},
     "output_type": "execute_result"
    }
   ],
   "source": [
    "(\n",
    "    books_rating[\n",
    "        books_rating.drop(columns='text').duplicated(keep=False)\n",
    "    ]\n",
    "    .iloc[:2]\n",
    ")"
   ]
  },
  {
   "cell_type": "code",
   "execution_count": 50,
   "metadata": {},
   "outputs": [
    {
     "data": {
      "text/plain": [
       "array([[\"Kurt Seligmann, Surrealist artist par excellence, admitted &amp; unashamed bibliophile, has ravaged his occult library in a miraculous marriage giving birth to this classic historical account of Magic and Occultism; entirely written for the proverbial 'man about the street', and a very cosmic avenue is here tread in an admireable chronological ordering of the various mystical houses. Addressing all the various occult(semantic definition of &quot;hidden &amp; rejected knowledge&quot;) routes via the shortcut of this Art Historian's scholarly mind, as a whole this work is one of the best and most easily approachable &quot;magic histories&quot; for those who have no previous knowledge concerning occultism except an undeniable interest and fascination with the mysterious and the spiritual.Kurt Seligmann is darkly fascinated and explores endlessly the multitude of historic beliefs concerning the study of the nature of evil... such as black magic, necromancy, Elizabethian era conjurers and their Enochian magic,primitive rites, evocations of the Cultus Satanus, Goetia Demonomania, et.al....as an example, early on he discusses Chaldean phliosophies in which: &quot;Evil was born from God's disturbing thoughts&quot;...I have long wondered if the proposed thoughts had to do specifically with humanity?...and this book will surely set the fire or fan the sulphurous flames of those burning to know more about all things occult.The book primarily deals with Western Esoteric Traditions, which, being a westerner, appeals to my insatiable explorative appetite in studying and discovering the divinity of humankind and the accorded propensity &amp; potentials of individual spiritual progress through Magick and the strengthening of divine will ; in comparison with more Eastern idealogies concerned with mystical enlightenment and the abolishing of the ego to attain Nirvana.In summation, Kurt Seligmann, as one of the last efforts of his exemplary artistic journey throughout the early 20th century avant-garde, has given the world a completely unbiased in-depth world history from a magical perspective, a genuine labor of love which will always retain its intimately artistic personality in contrast to the strict scholarly treatise of the newspaper skeptic variety; and although there are better, more developed and intrigueing accounts out there, none are at the moment so readily available and economic, nor so expressive, or conclusively compact as this. Finally, the book has over a hundred and fifty illustrations from alchemical treatise and magical grimoires which compliment his descriptive writing style.It is besides all this, another exclamation point puncuating the Surrealist movement. surrealyours, an occultist.\",\n",
       "        \"Kurt Seligmann, Surrealist artist par excellence, admitted &amp; unashamed bibliophile, has ravaged his occult library in a miraculous marriage giving birth to this classic historical account of Magic and Occultism; entirely written for the proverbial 'man about the street', and a very cosmic avenue is here tread in an admireable chronological ordering of the various mystical houses. Addressing all the various occult(semantic definition of &quot;hidden &amp; rejected knowledge&quot;) routes via the shortcut of this Art Historian's scholarly mind, as a whole this work is one of the best and most easily approachable &quot;magic histories&quot; for those who have no previous knowledge concerning occultism except an undeniable interest and fascination with the mysterious and the spiritual.Kurt Seligmann is darkly fascinated and explores endlessly the multitude of historic beliefs concerning the study of the nature of evil... such as black magic, necromancy, Elizabethian era conjurers and their Enochian magic,primitive rites, evocations of the Cultus Satanus, Goetia Demonomania, et.al....as an example, early on he discusses Chaldean phliosophies in which: &quot;Evil was born from God's disturbing thoughts&quot;...I have long wondered if the proposed thoughts had to do specifically with humanity?...and this book will surely set the fire or fan the sulphurous flames of those burning to know more about all things occult.The book primarily deals with Western Esoteric Traditions, which, being a westerner, appeals to my insatiable explorative appetite in studying and discovering the divinity of humankind and the accorded propensity &amp; potentials of individual spiritual progress through Magick and the strengthening of divine will ; in comparison with more Eastern idealogies concerned with mystical enlightenment and the abolishing of the ego to attain Nirvana.In summation, Kurt Seligmann, as one of the last efforts of his exemplary artistic journey throughout the early 20th century avant-garde, has given the world a completely unbiased in-depth world history from a magical perspective, a genuine labor of love which will always retain its intimately artistic personality in contrast to the strict scholarly treatise of the newspaper skeptic variety; and although there are better, more developed and intrigueing accounts out there, none are at the moment so readily available and economic, nor so expressive, or conclusively compact as this. Finally, the book has over a hundred and fifty illustrations from alchemical treatise and magical grimoires which compliment his descriptive writing style.It is besides all this, another exclamation point punctuating the Surrealist movement. surrealyours, an occultist.\"]],\n",
       "      dtype=object)"
      ]
     },
     "execution_count": 50,
     "metadata": {},
     "output_type": "execute_result"
    }
   ],
   "source": [
    "books_rating.loc[162].compare(books_rating.loc[164]).values"
   ]
  },
  {
   "cell_type": "markdown",
   "metadata": {},
   "source": [
    "They only differ in the ```text``` column."
   ]
  },
  {
   "cell_type": "markdown",
   "metadata": {},
   "source": [
    "Intuitively, an user id could only have one review for a title. We need to aggregate the other columns somehow."
   ]
  },
  {
   "cell_type": "markdown",
   "metadata": {},
   "source": [
    "```score``` distribution:"
   ]
  },
  {
   "cell_type": "code",
   "execution_count": 51,
   "metadata": {},
   "outputs": [],
   "source": [
    "# REDO after preprocessing\n",
    "\n",
    "# books_rating['score'].value_counts().sort_index().plot(kind='bar')"
   ]
  },
  {
   "cell_type": "markdown",
   "metadata": {},
   "source": [
    "## Books Data"
   ]
  },
  {
   "cell_type": "code",
   "execution_count": 52,
   "metadata": {},
   "outputs": [],
   "source": [
    "books_data = pd.read_csv('books_data.csv')"
   ]
  },
  {
   "cell_type": "code",
   "execution_count": 53,
   "metadata": {},
   "outputs": [
    {
     "data": {
      "text/plain": [
       "Index(['Title', 'description', 'authors', 'image', 'previewLink', 'publisher',\n",
       "       'publishedDate', 'infoLink', 'categories', 'ratingsCount'],\n",
       "      dtype='object')"
      ]
     },
     "execution_count": 53,
     "metadata": {},
     "output_type": "execute_result"
    }
   ],
   "source": [
    "books_data.columns"
   ]
  },
  {
   "cell_type": "markdown",
   "metadata": {},
   "source": [
    "Renaming the columns:"
   ]
  },
  {
   "cell_type": "code",
   "execution_count": 54,
   "metadata": {},
   "outputs": [],
   "source": [
    "books_data = (\n",
    "    books_data\n",
    "    .rename(columns={\n",
    "        'Title': 'title',\n",
    "        'previewLink': 'preview_link',\n",
    "        'publishedDate': 'published_date',\n",
    "        'infoLink': 'info_link',\n",
    "        'ratingsCount': 'ratings_count',\n",
    "    })\n",
    ")"
   ]
  },
  {
   "cell_type": "markdown",
   "metadata": {},
   "source": [
    "Checking for duplicated rows:"
   ]
  },
  {
   "cell_type": "code",
   "execution_count": 55,
   "metadata": {},
   "outputs": [
    {
     "data": {
      "text/plain": [
       "np.False_"
      ]
     },
     "execution_count": 55,
     "metadata": {},
     "output_type": "execute_result"
    }
   ],
   "source": [
    "books_data.duplicated().any()"
   ]
  },
  {
   "cell_type": "code",
   "execution_count": 56,
   "metadata": {},
   "outputs": [
    {
     "data": {
      "text/plain": [
       "np.int64(24304)"
      ]
     },
     "execution_count": 56,
     "metadata": {},
     "output_type": "execute_result"
    }
   ],
   "source": [
    "books_data.drop(columns='title').duplicated().sum()"
   ]
  },
  {
   "cell_type": "markdown",
   "metadata": {},
   "source": [
    "The cells above indicates that there are rows almost identical, but with some differences in the title (not good...)."
   ]
  },
  {
   "cell_type": "code",
   "execution_count": 57,
   "metadata": {},
   "outputs": [
    {
     "data": {
      "text/plain": [
       "True"
      ]
     },
     "execution_count": 57,
     "metadata": {},
     "output_type": "execute_result"
    }
   ],
   "source": [
    "books_data['title'].is_unique"
   ]
  },
  {
   "cell_type": "code",
   "execution_count": 58,
   "metadata": {},
   "outputs": [
    {
     "data": {
      "text/plain": [
       "(212404, 10)"
      ]
     },
     "execution_count": 58,
     "metadata": {},
     "output_type": "execute_result"
    }
   ],
   "source": [
    "books_data.shape"
   ]
  },
  {
   "cell_type": "code",
   "execution_count": 59,
   "metadata": {},
   "outputs": [
    {
     "data": {
      "text/html": [
       "<div>\n",
       "<style scoped>\n",
       "    .dataframe tbody tr th:only-of-type {\n",
       "        vertical-align: middle;\n",
       "    }\n",
       "\n",
       "    .dataframe tbody tr th {\n",
       "        vertical-align: top;\n",
       "    }\n",
       "\n",
       "    .dataframe thead th {\n",
       "        text-align: right;\n",
       "    }\n",
       "</style>\n",
       "<table border=\"1\" class=\"dataframe\">\n",
       "  <thead>\n",
       "    <tr style=\"text-align: right;\">\n",
       "      <th></th>\n",
       "      <th>title</th>\n",
       "      <th>description</th>\n",
       "      <th>authors</th>\n",
       "      <th>image</th>\n",
       "      <th>preview_link</th>\n",
       "      <th>publisher</th>\n",
       "      <th>published_date</th>\n",
       "      <th>info_link</th>\n",
       "      <th>categories</th>\n",
       "      <th>ratings_count</th>\n",
       "    </tr>\n",
       "  </thead>\n",
       "  <tbody>\n",
       "    <tr>\n",
       "      <th>0</th>\n",
       "      <td>Its Only Art If Its Well Hung!</td>\n",
       "      <td>NaN</td>\n",
       "      <td>['Julie Strain']</td>\n",
       "      <td>http://books.google.com/books/content?id=DykPA...</td>\n",
       "      <td>http://books.google.nl/books?id=DykPAAAACAAJ&amp;d...</td>\n",
       "      <td>NaN</td>\n",
       "      <td>1996</td>\n",
       "      <td>http://books.google.nl/books?id=DykPAAAACAAJ&amp;d...</td>\n",
       "      <td>['Comics &amp; Graphic Novels']</td>\n",
       "      <td>NaN</td>\n",
       "    </tr>\n",
       "    <tr>\n",
       "      <th>1</th>\n",
       "      <td>Dr. Seuss: American Icon</td>\n",
       "      <td>Philip Nel takes a fascinating look into the k...</td>\n",
       "      <td>['Philip Nel']</td>\n",
       "      <td>http://books.google.com/books/content?id=IjvHQ...</td>\n",
       "      <td>http://books.google.nl/books?id=IjvHQsCn_pgC&amp;p...</td>\n",
       "      <td>A&amp;C Black</td>\n",
       "      <td>2005-01-01</td>\n",
       "      <td>http://books.google.nl/books?id=IjvHQsCn_pgC&amp;d...</td>\n",
       "      <td>['Biography &amp; Autobiography']</td>\n",
       "      <td>NaN</td>\n",
       "    </tr>\n",
       "    <tr>\n",
       "      <th>2</th>\n",
       "      <td>Wonderful Worship in Smaller Churches</td>\n",
       "      <td>This resource includes twelve principles in un...</td>\n",
       "      <td>['David R. Ray']</td>\n",
       "      <td>http://books.google.com/books/content?id=2tsDA...</td>\n",
       "      <td>http://books.google.nl/books?id=2tsDAAAACAAJ&amp;d...</td>\n",
       "      <td>NaN</td>\n",
       "      <td>2000</td>\n",
       "      <td>http://books.google.nl/books?id=2tsDAAAACAAJ&amp;d...</td>\n",
       "      <td>['Religion']</td>\n",
       "      <td>NaN</td>\n",
       "    </tr>\n",
       "    <tr>\n",
       "      <th>3</th>\n",
       "      <td>Whispers of the Wicked Saints</td>\n",
       "      <td>Julia Thomas finds her life spinning out of co...</td>\n",
       "      <td>['Veronica Haddon']</td>\n",
       "      <td>http://books.google.com/books/content?id=aRSIg...</td>\n",
       "      <td>http://books.google.nl/books?id=aRSIgJlq6JwC&amp;d...</td>\n",
       "      <td>iUniverse</td>\n",
       "      <td>2005-02</td>\n",
       "      <td>http://books.google.nl/books?id=aRSIgJlq6JwC&amp;d...</td>\n",
       "      <td>['Fiction']</td>\n",
       "      <td>NaN</td>\n",
       "    </tr>\n",
       "    <tr>\n",
       "      <th>4</th>\n",
       "      <td>Nation Dance: Religion, Identity and Cultural ...</td>\n",
       "      <td>NaN</td>\n",
       "      <td>['Edward Long']</td>\n",
       "      <td>NaN</td>\n",
       "      <td>http://books.google.nl/books?id=399SPgAACAAJ&amp;d...</td>\n",
       "      <td>NaN</td>\n",
       "      <td>2003-03-01</td>\n",
       "      <td>http://books.google.nl/books?id=399SPgAACAAJ&amp;d...</td>\n",
       "      <td>NaN</td>\n",
       "      <td>NaN</td>\n",
       "    </tr>\n",
       "  </tbody>\n",
       "</table>\n",
       "</div>"
      ],
      "text/plain": [
       "                                               title  \\\n",
       "0                     Its Only Art If Its Well Hung!   \n",
       "1                           Dr. Seuss: American Icon   \n",
       "2              Wonderful Worship in Smaller Churches   \n",
       "3                      Whispers of the Wicked Saints   \n",
       "4  Nation Dance: Religion, Identity and Cultural ...   \n",
       "\n",
       "                                         description              authors  \\\n",
       "0                                                NaN     ['Julie Strain']   \n",
       "1  Philip Nel takes a fascinating look into the k...       ['Philip Nel']   \n",
       "2  This resource includes twelve principles in un...     ['David R. Ray']   \n",
       "3  Julia Thomas finds her life spinning out of co...  ['Veronica Haddon']   \n",
       "4                                                NaN      ['Edward Long']   \n",
       "\n",
       "                                               image  \\\n",
       "0  http://books.google.com/books/content?id=DykPA...   \n",
       "1  http://books.google.com/books/content?id=IjvHQ...   \n",
       "2  http://books.google.com/books/content?id=2tsDA...   \n",
       "3  http://books.google.com/books/content?id=aRSIg...   \n",
       "4                                                NaN   \n",
       "\n",
       "                                        preview_link  publisher  \\\n",
       "0  http://books.google.nl/books?id=DykPAAAACAAJ&d...        NaN   \n",
       "1  http://books.google.nl/books?id=IjvHQsCn_pgC&p...  A&C Black   \n",
       "2  http://books.google.nl/books?id=2tsDAAAACAAJ&d...        NaN   \n",
       "3  http://books.google.nl/books?id=aRSIgJlq6JwC&d...  iUniverse   \n",
       "4  http://books.google.nl/books?id=399SPgAACAAJ&d...        NaN   \n",
       "\n",
       "  published_date                                          info_link  \\\n",
       "0           1996  http://books.google.nl/books?id=DykPAAAACAAJ&d...   \n",
       "1     2005-01-01  http://books.google.nl/books?id=IjvHQsCn_pgC&d...   \n",
       "2           2000  http://books.google.nl/books?id=2tsDAAAACAAJ&d...   \n",
       "3        2005-02  http://books.google.nl/books?id=aRSIgJlq6JwC&d...   \n",
       "4     2003-03-01  http://books.google.nl/books?id=399SPgAACAAJ&d...   \n",
       "\n",
       "                      categories  ratings_count  \n",
       "0    ['Comics & Graphic Novels']            NaN  \n",
       "1  ['Biography & Autobiography']            NaN  \n",
       "2                   ['Religion']            NaN  \n",
       "3                    ['Fiction']            NaN  \n",
       "4                            NaN            NaN  "
      ]
     },
     "execution_count": 59,
     "metadata": {},
     "output_type": "execute_result"
    }
   ],
   "source": [
    "books_data.head()"
   ]
  },
  {
   "cell_type": "markdown",
   "metadata": {},
   "source": [
    "Data Types:"
   ]
  },
  {
   "cell_type": "code",
   "execution_count": 60,
   "metadata": {},
   "outputs": [
    {
     "data": {
      "text/plain": [
       "title              object\n",
       "description        object\n",
       "authors            object\n",
       "image              object\n",
       "preview_link       object\n",
       "publisher          object\n",
       "published_date     object\n",
       "info_link          object\n",
       "categories         object\n",
       "ratings_count     float64\n",
       "dtype: object"
      ]
     },
     "execution_count": 60,
     "metadata": {},
     "output_type": "execute_result"
    }
   ],
   "source": [
    "books_data.dtypes"
   ]
  },
  {
   "cell_type": "markdown",
   "metadata": {},
   "source": [
    "Checking for NaN values:"
   ]
  },
  {
   "cell_type": "code",
   "execution_count": 61,
   "metadata": {},
   "outputs": [
    {
     "data": {
      "text/plain": [
       "title             True\n",
       "description       True\n",
       "authors           True\n",
       "image             True\n",
       "preview_link      True\n",
       "publisher         True\n",
       "published_date    True\n",
       "info_link         True\n",
       "categories        True\n",
       "ratings_count     True\n",
       "dtype: bool"
      ]
     },
     "execution_count": 61,
     "metadata": {},
     "output_type": "execute_result"
    }
   ],
   "source": [
    "books_data.isna().any()"
   ]
  },
  {
   "cell_type": "markdown",
   "metadata": {},
   "source": [
    "Count of non-null values:"
   ]
  },
  {
   "cell_type": "code",
   "execution_count": 62,
   "metadata": {},
   "outputs": [
    {
     "data": {
      "text/plain": [
       "title             212403\n",
       "description       143962\n",
       "authors           180991\n",
       "image             160329\n",
       "preview_link      188568\n",
       "publisher         136518\n",
       "published_date    187099\n",
       "info_link         188568\n",
       "categories        171205\n",
       "ratings_count      49752\n",
       "dtype: int64"
      ]
     },
     "execution_count": 62,
     "metadata": {},
     "output_type": "execute_result"
    }
   ],
   "source": [
    "books_data.count()"
   ]
  },
  {
   "cell_type": "code",
   "execution_count": 63,
   "metadata": {},
   "outputs": [],
   "source": [
    "useful_cols_data = ['title', 'description', 'authors', 'categories', 'ratings_count']"
   ]
  },
  {
   "cell_type": "code",
   "execution_count": 64,
   "metadata": {},
   "outputs": [
    {
     "data": {
      "text/html": [
       "<div>\n",
       "<style scoped>\n",
       "    .dataframe tbody tr th:only-of-type {\n",
       "        vertical-align: middle;\n",
       "    }\n",
       "\n",
       "    .dataframe tbody tr th {\n",
       "        vertical-align: top;\n",
       "    }\n",
       "\n",
       "    .dataframe thead th {\n",
       "        text-align: right;\n",
       "    }\n",
       "</style>\n",
       "<table border=\"1\" class=\"dataframe\">\n",
       "  <thead>\n",
       "    <tr style=\"text-align: right;\">\n",
       "      <th></th>\n",
       "      <th>title</th>\n",
       "      <th>description</th>\n",
       "      <th>authors</th>\n",
       "      <th>categories</th>\n",
       "      <th>ratings_count</th>\n",
       "    </tr>\n",
       "  </thead>\n",
       "  <tbody>\n",
       "    <tr>\n",
       "      <th>0</th>\n",
       "      <td>Its Only Art If Its Well Hung!</td>\n",
       "      <td>NaN</td>\n",
       "      <td>['Julie Strain']</td>\n",
       "      <td>['Comics &amp; Graphic Novels']</td>\n",
       "      <td>NaN</td>\n",
       "    </tr>\n",
       "    <tr>\n",
       "      <th>1</th>\n",
       "      <td>Dr. Seuss: American Icon</td>\n",
       "      <td>Philip Nel takes a fascinating look into the k...</td>\n",
       "      <td>['Philip Nel']</td>\n",
       "      <td>['Biography &amp; Autobiography']</td>\n",
       "      <td>NaN</td>\n",
       "    </tr>\n",
       "    <tr>\n",
       "      <th>2</th>\n",
       "      <td>Wonderful Worship in Smaller Churches</td>\n",
       "      <td>This resource includes twelve principles in un...</td>\n",
       "      <td>['David R. Ray']</td>\n",
       "      <td>['Religion']</td>\n",
       "      <td>NaN</td>\n",
       "    </tr>\n",
       "    <tr>\n",
       "      <th>3</th>\n",
       "      <td>Whispers of the Wicked Saints</td>\n",
       "      <td>Julia Thomas finds her life spinning out of co...</td>\n",
       "      <td>['Veronica Haddon']</td>\n",
       "      <td>['Fiction']</td>\n",
       "      <td>NaN</td>\n",
       "    </tr>\n",
       "    <tr>\n",
       "      <th>4</th>\n",
       "      <td>Nation Dance: Religion, Identity and Cultural ...</td>\n",
       "      <td>NaN</td>\n",
       "      <td>['Edward Long']</td>\n",
       "      <td>NaN</td>\n",
       "      <td>NaN</td>\n",
       "    </tr>\n",
       "  </tbody>\n",
       "</table>\n",
       "</div>"
      ],
      "text/plain": [
       "                                               title  \\\n",
       "0                     Its Only Art If Its Well Hung!   \n",
       "1                           Dr. Seuss: American Icon   \n",
       "2              Wonderful Worship in Smaller Churches   \n",
       "3                      Whispers of the Wicked Saints   \n",
       "4  Nation Dance: Religion, Identity and Cultural ...   \n",
       "\n",
       "                                         description              authors  \\\n",
       "0                                                NaN     ['Julie Strain']   \n",
       "1  Philip Nel takes a fascinating look into the k...       ['Philip Nel']   \n",
       "2  This resource includes twelve principles in un...     ['David R. Ray']   \n",
       "3  Julia Thomas finds her life spinning out of co...  ['Veronica Haddon']   \n",
       "4                                                NaN      ['Edward Long']   \n",
       "\n",
       "                      categories  ratings_count  \n",
       "0    ['Comics & Graphic Novels']            NaN  \n",
       "1  ['Biography & Autobiography']            NaN  \n",
       "2                   ['Religion']            NaN  \n",
       "3                    ['Fiction']            NaN  \n",
       "4                            NaN            NaN  "
      ]
     },
     "execution_count": 64,
     "metadata": {},
     "output_type": "execute_result"
    }
   ],
   "source": [
    "books_data[useful_cols_data].head()"
   ]
  },
  {
   "cell_type": "markdown",
   "metadata": {},
   "source": [
    "Checking the titles:"
   ]
  },
  {
   "cell_type": "code",
   "execution_count": 65,
   "metadata": {},
   "outputs": [
    {
     "data": {
      "text/html": [
       "<div>\n",
       "<style scoped>\n",
       "    .dataframe tbody tr th:only-of-type {\n",
       "        vertical-align: middle;\n",
       "    }\n",
       "\n",
       "    .dataframe tbody tr th {\n",
       "        vertical-align: top;\n",
       "    }\n",
       "\n",
       "    .dataframe thead th {\n",
       "        text-align: right;\n",
       "    }\n",
       "</style>\n",
       "<table border=\"1\" class=\"dataframe\">\n",
       "  <thead>\n",
       "    <tr style=\"text-align: right;\">\n",
       "      <th></th>\n",
       "      <th>title</th>\n",
       "      <th>description</th>\n",
       "      <th>authors</th>\n",
       "      <th>categories</th>\n",
       "      <th>ratings_count</th>\n",
       "    </tr>\n",
       "  </thead>\n",
       "  <tbody>\n",
       "    <tr>\n",
       "      <th>27238</th>\n",
       "      <td>The Great Physician's Rx for 7 Weeks of Wellne...</td>\n",
       "      <td>Expanding beyond the solely nutritionally base...</td>\n",
       "      <td>['Jordan Rubin']</td>\n",
       "      <td>['Health &amp; Fitness']</td>\n",
       "      <td>NaN</td>\n",
       "    </tr>\n",
       "    <tr>\n",
       "      <th>47088</th>\n",
       "      <td>The Great Physician's Rx for Health and Wellness</td>\n",
       "      <td>At 19 years old, Jordan Rubin was a healthy 6'...</td>\n",
       "      <td>['Jordan Rubin']</td>\n",
       "      <td>['Health &amp; Fitness']</td>\n",
       "      <td>12.0</td>\n",
       "    </tr>\n",
       "    <tr>\n",
       "      <th>123651</th>\n",
       "      <td>The Great Physician's Rx for Health and Wellne...</td>\n",
       "      <td>At 19 years old, Jordan Rubin was a healthy 6'...</td>\n",
       "      <td>['Jordan Rubin']</td>\n",
       "      <td>['Health &amp; Fitness']</td>\n",
       "      <td>12.0</td>\n",
       "    </tr>\n",
       "  </tbody>\n",
       "</table>\n",
       "</div>"
      ],
      "text/plain": [
       "                                                    title  \\\n",
       "27238   The Great Physician's Rx for 7 Weeks of Wellne...   \n",
       "47088    The Great Physician's Rx for Health and Wellness   \n",
       "123651  The Great Physician's Rx for Health and Wellne...   \n",
       "\n",
       "                                              description           authors  \\\n",
       "27238   Expanding beyond the solely nutritionally base...  ['Jordan Rubin']   \n",
       "47088   At 19 years old, Jordan Rubin was a healthy 6'...  ['Jordan Rubin']   \n",
       "123651  At 19 years old, Jordan Rubin was a healthy 6'...  ['Jordan Rubin']   \n",
       "\n",
       "                  categories  ratings_count  \n",
       "27238   ['Health & Fitness']            NaN  \n",
       "47088   ['Health & Fitness']           12.0  \n",
       "123651  ['Health & Fitness']           12.0  "
      ]
     },
     "execution_count": 65,
     "metadata": {},
     "output_type": "execute_result"
    }
   ],
   "source": [
    "(\n",
    "    books_data\n",
    "    [useful_cols_data]\n",
    "    .dropna(subset='title')\n",
    "    .pipe(lambda df: df[df['title'].str.startswith('The Great Physician')])\n",
    "    # ['title'].values\n",
    ")"
   ]
  },
  {
   "cell_type": "code",
   "execution_count": 66,
   "metadata": {},
   "outputs": [
    {
     "data": {
      "text/html": [
       "<div>\n",
       "<style scoped>\n",
       "    .dataframe tbody tr th:only-of-type {\n",
       "        vertical-align: middle;\n",
       "    }\n",
       "\n",
       "    .dataframe tbody tr th {\n",
       "        vertical-align: top;\n",
       "    }\n",
       "\n",
       "    .dataframe thead th {\n",
       "        text-align: right;\n",
       "    }\n",
       "</style>\n",
       "<table border=\"1\" class=\"dataframe\">\n",
       "  <thead>\n",
       "    <tr style=\"text-align: right;\">\n",
       "      <th></th>\n",
       "      <th>title</th>\n",
       "      <th>description</th>\n",
       "      <th>authors</th>\n",
       "      <th>categories</th>\n",
       "      <th>ratings_count</th>\n",
       "    </tr>\n",
       "  </thead>\n",
       "  <tbody>\n",
       "    <tr>\n",
       "      <th>59924</th>\n",
       "      <td>The Electric Kool-Aid Acid Test</td>\n",
       "      <td>Relates the escapades of Ken Kesey and the Mer...</td>\n",
       "      <td>['Tom Wolfe']</td>\n",
       "      <td>['Social Science']</td>\n",
       "      <td>52.0</td>\n",
       "    </tr>\n",
       "    <tr>\n",
       "      <th>119738</th>\n",
       "      <td>The electric kool-aid acid test</td>\n",
       "      <td>Relates the escapades of Ken Kesey and the Mer...</td>\n",
       "      <td>['Tom Wolfe']</td>\n",
       "      <td>['Social Science']</td>\n",
       "      <td>52.0</td>\n",
       "    </tr>\n",
       "  </tbody>\n",
       "</table>\n",
       "</div>"
      ],
      "text/plain": [
       "                                  title  \\\n",
       "59924   The Electric Kool-Aid Acid Test   \n",
       "119738  The electric kool-aid acid test   \n",
       "\n",
       "                                              description        authors  \\\n",
       "59924   Relates the escapades of Ken Kesey and the Mer...  ['Tom Wolfe']   \n",
       "119738  Relates the escapades of Ken Kesey and the Mer...  ['Tom Wolfe']   \n",
       "\n",
       "                categories  ratings_count  \n",
       "59924   ['Social Science']           52.0  \n",
       "119738  ['Social Science']           52.0  "
      ]
     },
     "execution_count": 66,
     "metadata": {},
     "output_type": "execute_result"
    }
   ],
   "source": [
    "(\n",
    "    books_data\n",
    "    [useful_cols_data]\n",
    "    .dropna(subset='title')\n",
    "    .pipe(lambda df:\n",
    "        df[\n",
    "            df['title']\n",
    "            .str.lower()\n",
    "            .str.startswith('the electric kool')\n",
    "        ]\n",
    "    )\n",
    "    # ['title'].values\n",
    ")"
   ]
  },
  {
   "cell_type": "markdown",
   "metadata": {},
   "source": [
    "## Books Rating + Books Data"
   ]
  },
  {
   "cell_type": "markdown",
   "metadata": {},
   "source": [
    "Checking the titles:"
   ]
  },
  {
   "cell_type": "code",
   "execution_count": 67,
   "metadata": {},
   "outputs": [
    {
     "data": {
      "text/plain": [
       "set()"
      ]
     },
     "execution_count": 67,
     "metadata": {},
     "output_type": "execute_result"
    }
   ],
   "source": [
    "set(books_rating['title']) - set(books_data['title'])"
   ]
  },
  {
   "cell_type": "code",
   "execution_count": 68,
   "metadata": {},
   "outputs": [
    {
     "data": {
      "text/plain": [
       "set()"
      ]
     },
     "execution_count": 68,
     "metadata": {},
     "output_type": "execute_result"
    }
   ],
   "source": [
    "set(books_data['title']) - set(books_rating['title'])"
   ]
  },
  {
   "cell_type": "markdown",
   "metadata": {},
   "source": [
    "They are equal sets."
   ]
  },
  {
   "cell_type": "markdown",
   "metadata": {},
   "source": [
    "Checking the ```ratings_count```:"
   ]
  },
  {
   "cell_type": "code",
   "execution_count": 69,
   "metadata": {},
   "outputs": [
    {
     "data": {
      "text/html": [
       "<div>\n",
       "<style scoped>\n",
       "    .dataframe tbody tr th:only-of-type {\n",
       "        vertical-align: middle;\n",
       "    }\n",
       "\n",
       "    .dataframe tbody tr th {\n",
       "        vertical-align: top;\n",
       "    }\n",
       "\n",
       "    .dataframe thead th {\n",
       "        text-align: right;\n",
       "    }\n",
       "</style>\n",
       "<table border=\"1\" class=\"dataframe\">\n",
       "  <thead>\n",
       "    <tr style=\"text-align: right;\">\n",
       "      <th></th>\n",
       "      <th>ratings_count</th>\n",
       "    </tr>\n",
       "    <tr>\n",
       "      <th>title</th>\n",
       "      <th></th>\n",
       "    </tr>\n",
       "  </thead>\n",
       "  <tbody>\n",
       "    <tr>\n",
       "      <th>\" Film technique, \" and, \" Film acting \"</th>\n",
       "      <td>NaN</td>\n",
       "    </tr>\n",
       "    <tr>\n",
       "      <th>\" We'll Always Have Paris\": The Definitive Guide to Great Lines from the Movies</th>\n",
       "      <td>NaN</td>\n",
       "    </tr>\n",
       "    <tr>\n",
       "      <th>\"... And Poetry is Born ...\" Russian Classical Poetry</th>\n",
       "      <td>NaN</td>\n",
       "    </tr>\n",
       "    <tr>\n",
       "      <th>\"A Titanic hero\" Thomas Andrews, shipbuilder</th>\n",
       "      <td>NaN</td>\n",
       "    </tr>\n",
       "    <tr>\n",
       "      <th>\"A Truthful Impression of the Country\": British and American Travel Writing in China, 1880-1949</th>\n",
       "      <td>NaN</td>\n",
       "    </tr>\n",
       "    <tr>\n",
       "      <th>...</th>\n",
       "      <td>...</td>\n",
       "    </tr>\n",
       "    <tr>\n",
       "      <th>with an everlasting love</th>\n",
       "      <td>4.0</td>\n",
       "    </tr>\n",
       "    <tr>\n",
       "      <th>work and Motivation</th>\n",
       "      <td>NaN</td>\n",
       "    </tr>\n",
       "    <tr>\n",
       "      <th>www.whitbread.org/book</th>\n",
       "      <td>NaN</td>\n",
       "    </tr>\n",
       "    <tr>\n",
       "      <th>xBase Programming for the True Beginner: An Introduction to the xBase Language in the Context of dBASE III+, IV, 5, FoxPro, and Clipper</th>\n",
       "      <td>NaN</td>\n",
       "    </tr>\n",
       "    <tr>\n",
       "      <th>you can do anything with crepes</th>\n",
       "      <td>NaN</td>\n",
       "    </tr>\n",
       "  </tbody>\n",
       "</table>\n",
       "<p>212403 rows × 1 columns</p>\n",
       "</div>"
      ],
      "text/plain": [
       "                                                    ratings_count\n",
       "title                                                            \n",
       "\" Film technique, \" and, \" Film acting \"                      NaN\n",
       "\" We'll Always Have Paris\": The Definitive Guid...            NaN\n",
       "\"... And Poetry is Born ...\" Russian Classical ...            NaN\n",
       "\"A Titanic hero\" Thomas Andrews, shipbuilder                  NaN\n",
       "\"A Truthful Impression of the Country\": British...            NaN\n",
       "...                                                           ...\n",
       "with an everlasting love                                      4.0\n",
       "work and Motivation                                           NaN\n",
       "www.whitbread.org/book                                        NaN\n",
       "xBase Programming for the True Beginner: An Int...            NaN\n",
       "you can do anything with crepes                               NaN\n",
       "\n",
       "[212403 rows x 1 columns]"
      ]
     },
     "execution_count": 69,
     "metadata": {},
     "output_type": "execute_result"
    }
   ],
   "source": [
    "ratings_count = (\n",
    "    books_data\n",
    "    .dropna(subset='title')\n",
    "    .set_index('title')\n",
    "    .sort_index()\n",
    "    ['ratings_count']\n",
    ")\n",
    "ratings_count.to_frame()"
   ]
  },
  {
   "cell_type": "code",
   "execution_count": 70,
   "metadata": {},
   "outputs": [
    {
     "data": {
      "text/html": [
       "<div>\n",
       "<style scoped>\n",
       "    .dataframe tbody tr th:only-of-type {\n",
       "        vertical-align: middle;\n",
       "    }\n",
       "\n",
       "    .dataframe tbody tr th {\n",
       "        vertical-align: top;\n",
       "    }\n",
       "\n",
       "    .dataframe thead th {\n",
       "        text-align: right;\n",
       "    }\n",
       "</style>\n",
       "<table border=\"1\" class=\"dataframe\">\n",
       "  <thead>\n",
       "    <tr style=\"text-align: right;\">\n",
       "      <th></th>\n",
       "      <th>text</th>\n",
       "    </tr>\n",
       "    <tr>\n",
       "      <th>title</th>\n",
       "      <th></th>\n",
       "    </tr>\n",
       "  </thead>\n",
       "  <tbody>\n",
       "    <tr>\n",
       "      <th>\" Film technique, \" and, \" Film acting \"</th>\n",
       "      <td>2</td>\n",
       "    </tr>\n",
       "    <tr>\n",
       "      <th>\" We'll Always Have Paris\": The Definitive Guide to Great Lines from the Movies</th>\n",
       "      <td>2</td>\n",
       "    </tr>\n",
       "    <tr>\n",
       "      <th>\"... And Poetry is Born ...\" Russian Classical Poetry</th>\n",
       "      <td>1</td>\n",
       "    </tr>\n",
       "    <tr>\n",
       "      <th>\"A Titanic hero\" Thomas Andrews, shipbuilder</th>\n",
       "      <td>8</td>\n",
       "    </tr>\n",
       "    <tr>\n",
       "      <th>\"A Truthful Impression of the Country\": British and American Travel Writing in China, 1880-1949</th>\n",
       "      <td>1</td>\n",
       "    </tr>\n",
       "    <tr>\n",
       "      <th>...</th>\n",
       "      <td>...</td>\n",
       "    </tr>\n",
       "    <tr>\n",
       "      <th>with an everlasting love</th>\n",
       "      <td>21</td>\n",
       "    </tr>\n",
       "    <tr>\n",
       "      <th>work and Motivation</th>\n",
       "      <td>1</td>\n",
       "    </tr>\n",
       "    <tr>\n",
       "      <th>www.whitbread.org/book</th>\n",
       "      <td>3</td>\n",
       "    </tr>\n",
       "    <tr>\n",
       "      <th>xBase Programming for the True Beginner: An Introduction to the xBase Language in the Context of dBASE III+, IV, 5, FoxPro, and Clipper</th>\n",
       "      <td>1</td>\n",
       "    </tr>\n",
       "    <tr>\n",
       "      <th>you can do anything with crepes</th>\n",
       "      <td>2</td>\n",
       "    </tr>\n",
       "  </tbody>\n",
       "</table>\n",
       "<p>212403 rows × 1 columns</p>\n",
       "</div>"
      ],
      "text/plain": [
       "                                                    text\n",
       "title                                                   \n",
       "\" Film technique, \" and, \" Film acting \"               2\n",
       "\" We'll Always Have Paris\": The Definitive Guid...     2\n",
       "\"... And Poetry is Born ...\" Russian Classical ...     1\n",
       "\"A Titanic hero\" Thomas Andrews, shipbuilder           8\n",
       "\"A Truthful Impression of the Country\": British...     1\n",
       "...                                                  ...\n",
       "with an everlasting love                              21\n",
       "work and Motivation                                    1\n",
       "www.whitbread.org/book                                 3\n",
       "xBase Programming for the True Beginner: An Int...     1\n",
       "you can do anything with crepes                        2\n",
       "\n",
       "[212403 rows x 1 columns]"
      ]
     },
     "execution_count": 70,
     "metadata": {},
     "output_type": "execute_result"
    }
   ],
   "source": [
    "books_rating.groupby('title')['text'].count().sort_index().to_frame()"
   ]
  },
  {
   "cell_type": "code",
   "execution_count": 71,
   "metadata": {},
   "outputs": [
    {
     "data": {
      "text/html": [
       "<div>\n",
       "<style scoped>\n",
       "    .dataframe tbody tr th:only-of-type {\n",
       "        vertical-align: middle;\n",
       "    }\n",
       "\n",
       "    .dataframe tbody tr th {\n",
       "        vertical-align: top;\n",
       "    }\n",
       "\n",
       "    .dataframe thead th {\n",
       "        text-align: right;\n",
       "    }\n",
       "</style>\n",
       "<table border=\"1\" class=\"dataframe\">\n",
       "  <thead>\n",
       "    <tr style=\"text-align: right;\">\n",
       "      <th></th>\n",
       "      <th>title</th>\n",
       "      <th>user_id</th>\n",
       "      <th>score</th>\n",
       "      <th>time</th>\n",
       "      <th>summary</th>\n",
       "      <th>text</th>\n",
       "    </tr>\n",
       "  </thead>\n",
       "  <tbody>\n",
       "    <tr>\n",
       "      <th>1279120</th>\n",
       "      <td>with an everlasting love</td>\n",
       "      <td>A9YRGJ159Z30R</td>\n",
       "      <td>1.0</td>\n",
       "      <td>1233705600</td>\n",
       "      <td>Really?</td>\n",
       "      <td>I cannot echo the rave reviews of this book. T...</td>\n",
       "    </tr>\n",
       "    <tr>\n",
       "      <th>1279121</th>\n",
       "      <td>with an everlasting love</td>\n",
       "      <td>A2F030EH54F0JE</td>\n",
       "      <td>5.0</td>\n",
       "      <td>1355184000</td>\n",
       "      <td>I have loved this book for years</td>\n",
       "      <td>I purchased this because I keep giving away my...</td>\n",
       "    </tr>\n",
       "    <tr>\n",
       "      <th>1279122</th>\n",
       "      <td>with an everlasting love</td>\n",
       "      <td>AP96A4VJV5UCO</td>\n",
       "      <td>5.0</td>\n",
       "      <td>1354233600</td>\n",
       "      <td>Wonderful Book!</td>\n",
       "      <td>This is one of the most basic stories ever, ex...</td>\n",
       "    </tr>\n",
       "    <tr>\n",
       "      <th>1279123</th>\n",
       "      <td>with an everlasting love</td>\n",
       "      <td>AGPAX21BNZAD8</td>\n",
       "      <td>5.0</td>\n",
       "      <td>1350950400</td>\n",
       "      <td>Incredible</td>\n",
       "      <td>This is a outstanding book. You can take so mu...</td>\n",
       "    </tr>\n",
       "    <tr>\n",
       "      <th>1279124</th>\n",
       "      <td>with an everlasting love</td>\n",
       "      <td>A1H2HBZ2QZA8J9</td>\n",
       "      <td>5.0</td>\n",
       "      <td>1346889600</td>\n",
       "      <td>An Everlasting Love</td>\n",
       "      <td>I remember when I first read this book,when I ...</td>\n",
       "    </tr>\n",
       "    <tr>\n",
       "      <th>1279125</th>\n",
       "      <td>with an everlasting love</td>\n",
       "      <td>A268KCYCRLJ6YT</td>\n",
       "      <td>4.0</td>\n",
       "      <td>1346284800</td>\n",
       "      <td>Everlasting</td>\n",
       "      <td>Good and easy read based on unconditional love...</td>\n",
       "    </tr>\n",
       "    <tr>\n",
       "      <th>1279126</th>\n",
       "      <td>with an everlasting love</td>\n",
       "      <td>ARRG24PTR1K2F</td>\n",
       "      <td>5.0</td>\n",
       "      <td>1334188800</td>\n",
       "      <td>Easy Read with Exceptional Teaching</td>\n",
       "      <td>Just led a women's retreat where this was touc...</td>\n",
       "    </tr>\n",
       "    <tr>\n",
       "      <th>1279127</th>\n",
       "      <td>with an everlasting love</td>\n",
       "      <td>AZWC9XAY34IPW</td>\n",
       "      <td>5.0</td>\n",
       "      <td>1296432000</td>\n",
       "      <td>a parable</td>\n",
       "      <td>Christianna, the heroine of this novel, is eng...</td>\n",
       "    </tr>\n",
       "    <tr>\n",
       "      <th>1279128</th>\n",
       "      <td>with an everlasting love</td>\n",
       "      <td>A2GWS2SCT7FXS9</td>\n",
       "      <td>5.0</td>\n",
       "      <td>1295568000</td>\n",
       "      <td>4ydeits</td>\n",
       "      <td>Love this book and have bought several since I...</td>\n",
       "    </tr>\n",
       "    <tr>\n",
       "      <th>1279129</th>\n",
       "      <td>with an everlasting love</td>\n",
       "      <td>A12XJ4E97F9HLQ</td>\n",
       "      <td>5.0</td>\n",
       "      <td>1294099200</td>\n",
       "      <td>Unconditional Love</td>\n",
       "      <td>Ms. Arthur has written the ultimate love story...</td>\n",
       "    </tr>\n",
       "  </tbody>\n",
       "</table>\n",
       "</div>"
      ],
      "text/plain": [
       "                            title         user_id  score        time  \\\n",
       "1279120  with an everlasting love   A9YRGJ159Z30R    1.0  1233705600   \n",
       "1279121  with an everlasting love  A2F030EH54F0JE    5.0  1355184000   \n",
       "1279122  with an everlasting love   AP96A4VJV5UCO    5.0  1354233600   \n",
       "1279123  with an everlasting love   AGPAX21BNZAD8    5.0  1350950400   \n",
       "1279124  with an everlasting love  A1H2HBZ2QZA8J9    5.0  1346889600   \n",
       "1279125  with an everlasting love  A268KCYCRLJ6YT    4.0  1346284800   \n",
       "1279126  with an everlasting love   ARRG24PTR1K2F    5.0  1334188800   \n",
       "1279127  with an everlasting love   AZWC9XAY34IPW    5.0  1296432000   \n",
       "1279128  with an everlasting love  A2GWS2SCT7FXS9    5.0  1295568000   \n",
       "1279129  with an everlasting love  A12XJ4E97F9HLQ    5.0  1294099200   \n",
       "\n",
       "                                     summary  \\\n",
       "1279120                              Really?   \n",
       "1279121     I have loved this book for years   \n",
       "1279122                      Wonderful Book!   \n",
       "1279123                           Incredible   \n",
       "1279124                  An Everlasting Love   \n",
       "1279125                          Everlasting   \n",
       "1279126  Easy Read with Exceptional Teaching   \n",
       "1279127                            a parable   \n",
       "1279128                              4ydeits   \n",
       "1279129                   Unconditional Love   \n",
       "\n",
       "                                                      text  \n",
       "1279120  I cannot echo the rave reviews of this book. T...  \n",
       "1279121  I purchased this because I keep giving away my...  \n",
       "1279122  This is one of the most basic stories ever, ex...  \n",
       "1279123  This is a outstanding book. You can take so mu...  \n",
       "1279124  I remember when I first read this book,when I ...  \n",
       "1279125  Good and easy read based on unconditional love...  \n",
       "1279126  Just led a women's retreat where this was touc...  \n",
       "1279127  Christianna, the heroine of this novel, is eng...  \n",
       "1279128  Love this book and have bought several since I...  \n",
       "1279129  Ms. Arthur has written the ultimate love story...  "
      ]
     },
     "execution_count": 71,
     "metadata": {},
     "output_type": "execute_result"
    }
   ],
   "source": [
    "_title = 'with an everlasting love'\n",
    "\n",
    "books_rating.query('title == @_title').head(10)"
   ]
  },
  {
   "cell_type": "markdown",
   "metadata": {},
   "source": [
    "The ```ratings_count``` column seems to not be reliable."
   ]
  },
  {
   "cell_type": "markdown",
   "metadata": {},
   "source": [
    "We can match the 2 datasets by the title column."
   ]
  }
 ],
 "metadata": {
  "kernelspec": {
   "display_name": "a3data_desafio",
   "language": "python",
   "name": "python3"
  },
  "language_info": {
   "codemirror_mode": {
    "name": "ipython",
    "version": 3
   },
   "file_extension": ".py",
   "mimetype": "text/x-python",
   "name": "python",
   "nbconvert_exporter": "python",
   "pygments_lexer": "ipython3",
   "version": "3.11.11"
  }
 },
 "nbformat": 4,
 "nbformat_minor": 2
}
