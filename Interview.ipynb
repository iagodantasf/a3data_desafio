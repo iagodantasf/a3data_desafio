{
 "cells": [
  {
   "cell_type": "markdown",
   "metadata": {},
   "source": [
    "# Interview — Which ```user_id```?  "
   ]
  },
  {
   "cell_type": "code",
   "execution_count": 1,
   "metadata": {},
   "outputs": [],
   "source": [
    "%load_ext autoreload\n",
    "%autoreload 2"
   ]
  },
  {
   "cell_type": "code",
   "execution_count": 2,
   "metadata": {},
   "outputs": [
    {
     "name": "stderr",
     "output_type": "stream",
     "text": [
      "[nltk_data] Downloading package punkt to\n",
      "[nltk_data]     /Users/iagodantasf/nltk_data...\n",
      "[nltk_data]   Package punkt is already up-to-date!\n"
     ]
    }
   ],
   "source": [
    "import pandas as pd\n",
    "import numpy as np\n",
    "import yaml\n",
    "import seaborn as sns\n",
    "import matplotlib.pyplot as plt\n",
    "from tqdm import tqdm\n",
    "from preprocessing import preprocessed_books_data, preprocessed_books_rating\n",
    "from relevance import readability, relevance_word2vec, relevance_bert"
   ]
  },
  {
   "cell_type": "code",
   "execution_count": 3,
   "metadata": {},
   "outputs": [],
   "source": [
    "cfg = yaml.safe_load(open(\"config.yaml\"))"
   ]
  },
  {
   "cell_type": "code",
   "execution_count": 4,
   "metadata": {},
   "outputs": [],
   "source": [
    "books_rating = preprocessed_books_rating(cfg)"
   ]
  },
  {
   "cell_type": "code",
   "execution_count": 5,
   "metadata": {},
   "outputs": [],
   "source": [
    "books_data = preprocessed_books_data(cfg)"
   ]
  },
  {
   "cell_type": "markdown",
   "metadata": {},
   "source": [
    "## Readability Analysis"
   ]
  },
  {
   "cell_type": "markdown",
   "metadata": {},
   "source": [
    "Running in a small sample to estimate the running time:"
   ]
  },
  {
   "cell_type": "code",
   "execution_count": 6,
   "metadata": {},
   "outputs": [],
   "source": [
    "# n_samples = 100000\n",
    "# reviews_sample = books_rating['full_text'].iloc[:n_samples].values\n",
    "# readability(reviews_sample)"
   ]
  },
  {
   "cell_type": "code",
   "execution_count": 7,
   "metadata": {},
   "outputs": [],
   "source": [
    "readability_scores = readability(books_rating['full_text'].values)"
   ]
  },
  {
   "cell_type": "code",
   "execution_count": 8,
   "metadata": {},
   "outputs": [
    {
     "data": {
      "image/png": "[encoded data removed]",
      "text/plain": [
       "<Figure size 800x400 with 1 Axes>"
      ]
     },
     "metadata": {},
     "output_type": "display_data"
    }
   ],
   "source": [
    "plt.figure(figsize=(8, 4))\n",
    "plt.hist(readability_scores, bins=40)\n",
    "plt.title(\"Readability Score Histogram\")\n",
    "plt.xlabel(\"Readability Score\")\n",
    "plt.ylabel(\"Number of Occurrences\")\n",
    "plt.grid(c='k', alpha=0.1)\n",
    "plt.show()"
   ]
  },
  {
   "cell_type": "code",
   "execution_count": 9,
   "metadata": {},
   "outputs": [],
   "source": [
    "books_rating['readability'] = readability_scores"
   ]
  },
  {
   "cell_type": "code",
   "execution_count": 10,
   "metadata": {},
   "outputs": [
    {
     "data": {
      "text/plain": [
       "array([\"Informative, &quot;reader friendly&quot;, insightful, comprehensive.. A Requiem For The American Village offers the reader a compelling and insightful series of essays by history professor Paul Conkin on a spectrum of American historical events and personalities. Conkin charts the transformation of the American nation from relatively homogenous, agriculturally based communities to multicultural cosmopolitan industrial and post-industrial cultures with concomitant subordination of an individual's sense of local autonomy to that of a national authority. From &quot;History As a Discipline&quot; to &quot;The Dilemmas of Cultural Pluralism&quot;, A Requiem For The American Village offers both students of American history and non-specialist general readers seeking an historical grasp to contemporary political and culture trends an informative, &quot;reader friendly&quot; perspective.\",\n",
       "       \"Scientific &quot;Outsiders &quot; vs. Sensational Speculators. Traditional archaeology is being proven mistaken in its assessments ofman's early history on an almost daily basis. However, Von Daniken'swild speculations about alien intervention detract from the work of&quot;outsiders&quot; to the dominant paradigm who combine realscientific investigation with fresh outlooks on discovering man's truehistory.\",\n",
       "       'Excellent!. This Connelly legal thriller has an intriguing plot, decent characterization, excellent writing and an exciting ending, which encourages immediate search for another.',\n",
       "       \"EXCELLENT!!. EXCELLENT BOOK TO KNOW THE AMERICAN HISTORYFIRST HAND INFO ABOUT THE REAL APACHES IN NEW MEXICO, ARIZONA,TEXAS,ETCYOU WON'T BE DISSAPOINTED\",\n",
       "       \"Good project book for someone already familiar with mechatronics. This book provides great practice via projects for students/practitioners of mechatronics that are already pretty familiar with electronics and feel comfortable with constructing elementary mechanical devices. There is some theory provided for each project, and it would be enough for someone to construct each device but not necessarily understand the science behind each device if you do not have a sufficient background in mechatronics already. My personal favorite was the analog computer, primarily because in this day and age, I find many young engineers that don't even know what an analog computer is! I especially recommend this book to teachers who want to motivate their students to study engineering by showing them what interesting devices can be built. I notice Amazon shows nothing about the table of contents, so I show that here:Section One: Preparing the ReaderSection Two: The Technology Used in the ProjectsSection Three: The ProjectsProject 1 -- Mechatronic Race CarProject 2 -- RoboCom: A Combat RobotProject 3 -- Using a PWM Motor ControlProject 4 -- Ionic MotorProject 5 -- Experimental GalvanometerProject 6 -- Experimenting with ElectromagnetsProject 7 -- Electronic PotentiometerProject 8 -- Experiments with Eolic GeneratorsProject 9 -- Electronic CannonProject 10 -- Experiments with Lissajous Figures Generated by a LaserProject 11 -- Analog ComputerProject 12 -- Touch-Controlled MotorProject 13 -- Mechatronic ElevatorProject 14 -- Stepper Motor ControlProject 15 -- Magic Motion MachineProject 16 -- Test Your NervesProject 17 -- Robot with SensorsProject 18 -- SMA Experimental Robotic ArmProject 19 -- Position SensorProject 20 -- Light-Beam Remote ControlProject 21 -- Mechatronic AirboatProject 22 -- Coin TosserProject 23 -- The Challenge of the Mechatronic TimerProject 24 -- Experimental PLCProject 25 -- The Mechatronic Talking Head\"],\n",
       "      dtype=object)"
      ]
     },
     "execution_count": 10,
     "metadata": {},
     "output_type": "execute_result"
    }
   ],
   "source": [
    "books_rating.sort_values('readability')['full_text'].head().values"
   ]
  },
  {
   "cell_type": "code",
   "execution_count": 11,
   "metadata": {},
   "outputs": [
    {
     "data": {
      "text/plain": [
       "array(['Great book!. Sue keeps you in suspense until the very end. If you love who-done-it books, this is the book for you.',\n",
       "       \"Robotech fan here!. Very good story line! VERY well written. If you're a Robotech fan buy and read this!!\",\n",
       "       'Good read for Bird fans. My 12 year old son enjoyed this book about the life of Larry Bird. I purchased this book for a very low price & it was money well spent. This book will stay on his shelf for years to come.',\n",
       "       'Great product. THANKS! ,, ` 20 stars! ` ,, THANKS ! ,, ` 20 stars! ` ,, THANKS! ,, `',\n",
       "       'Great Read. My son loved this book. He does not like to read thick books, but he loved this one. If you know a baseball fan in your family, this is a great book.'],\n",
       "      dtype=object)"
      ]
     },
     "execution_count": 11,
     "metadata": {},
     "output_type": "execute_result"
    }
   ],
   "source": [
    "books_rating.sort_values('readability')['full_text'].tail().values"
   ]
  },
  {
   "cell_type": "markdown",
   "metadata": {},
   "source": [
    "## Relevance Analysis"
   ]
  },
  {
   "cell_type": "markdown",
   "metadata": {},
   "source": [
    "## Using BERT"
   ]
  },
  {
   "cell_type": "code",
   "execution_count": 12,
   "metadata": {},
   "outputs": [
    {
     "data": {
      "text/html": [
       "<div>\n",
       "<style scoped>\n",
       "    .dataframe tbody tr th:only-of-type {\n",
       "        vertical-align: middle;\n",
       "    }\n",
       "\n",
       "    .dataframe tbody tr th {\n",
       "        vertical-align: top;\n",
       "    }\n",
       "\n",
       "    .dataframe thead th {\n",
       "        text-align: right;\n",
       "    }\n",
       "</style>\n",
       "<table border=\"1\" class=\"dataframe\">\n",
       "  <thead>\n",
       "    <tr style=\"text-align: right;\">\n",
       "      <th></th>\n",
       "      <th>title</th>\n",
       "      <th>user_id</th>\n",
       "    </tr>\n",
       "  </thead>\n",
       "  <tbody>\n",
       "    <tr>\n",
       "      <th>205675</th>\n",
       "      <td>The Hobbit or There and Back Again</td>\n",
       "      <td>3496</td>\n",
       "    </tr>\n",
       "    <tr>\n",
       "      <th>205676</th>\n",
       "      <td>The Hobbitt, or there and back again; illustra...</td>\n",
       "      <td>3548</td>\n",
       "    </tr>\n",
       "    <tr>\n",
       "      <th>205677</th>\n",
       "      <td>The Hobbit There and Back Again</td>\n",
       "      <td>3561</td>\n",
       "    </tr>\n",
       "    <tr>\n",
       "      <th>205678</th>\n",
       "      <td>The Hobbit</td>\n",
       "      <td>3562</td>\n",
       "    </tr>\n",
       "    <tr>\n",
       "      <th>205679</th>\n",
       "      <td>Harry Potter and The Sorcerer's Stone</td>\n",
       "      <td>3639</td>\n",
       "    </tr>\n",
       "  </tbody>\n",
       "</table>\n",
       "</div>"
      ],
      "text/plain": [
       "                                                    title  user_id\n",
       "205675                 The Hobbit or There and Back Again     3496\n",
       "205676  The Hobbitt, or there and back again; illustra...     3548\n",
       "205677                    The Hobbit There and Back Again     3561\n",
       "205678                                         The Hobbit     3562\n",
       "205679              Harry Potter and The Sorcerer's Stone     3639"
      ]
     },
     "execution_count": 12,
     "metadata": {},
     "output_type": "execute_result"
    }
   ],
   "source": [
    "books_rating.groupby('title')['user_id'].count().sort_values().reset_index().tail()"
   ]
  },
  {
   "cell_type": "code",
   "execution_count": 13,
   "metadata": {},
   "outputs": [],
   "source": [
    "title = 'Harry Potter and The Sorcerer\\'s Stone'"
   ]
  },
  {
   "cell_type": "code",
   "execution_count": 14,
   "metadata": {},
   "outputs": [
    {
     "data": {
      "text/plain": [
       "\"Celebrate 20 years of Harry Potter magic! Harry Potter has never even heard of Hogwarts when the letters start dropping on the doormat at number four, Privet Drive. Addressed in green ink on yellowish parchment with a purple seal, they are swiftly confiscated by his grisly aunt and uncle. Then, on Harry's eleventh birthday, a great beetle-eyed giant of a man called Rubeus Hagrid bursts in with some astonishing news: Harry Potter is a wizard, and he has a place at Hogwarts School of Witchcraft and Wizardry. An incredible adventure is about to begin!These new editions of the classic and internationally bestselling, multi-award-winning series feature instantly pick-up-able new jackets by Jonny Duddle, with huge child appeal, to bring Harry Potter to the next generation of readers. It's time to PASS THE MAGIC ON ...\""
      ]
     },
     "execution_count": 14,
     "metadata": {},
     "output_type": "execute_result"
    }
   ],
   "source": [
    "description = books_data.query(\"title == @title\")['description'].values[0]\n",
    "description"
   ]
  },
  {
   "cell_type": "markdown",
   "metadata": {},
   "source": [
    "Running in a small sample to estimate the running time:"
   ]
  },
  {
   "cell_type": "code",
   "execution_count": 15,
   "metadata": {},
   "outputs": [],
   "source": [
    "# n_samples = 100\n",
    "# _reviews = books_rating.query(\"title == @title\")['full_text'].iloc[:n_samples].values\n",
    "# relevance_bert(_reviews, description)"
   ]
  },
  {
   "cell_type": "code",
   "execution_count": 16,
   "metadata": {},
   "outputs": [],
   "source": [
    "title_rating = books_rating.query(\"title == @title\").copy()"
   ]
  },
  {
   "cell_type": "code",
   "execution_count": 17,
   "metadata": {},
   "outputs": [],
   "source": [
    "relevance_scores_bert = relevance_bert(\n",
    "    title_rating['full_text'].values,\n",
    "    description,\n",
    ")"
   ]
  },
  {
   "cell_type": "code",
   "execution_count": 18,
   "metadata": {},
   "outputs": [
    {
     "data": {
      "image/png": "[encoded data removed]",
      "text/plain": [
       "<Figure size 800x400 with 1 Axes>"
      ]
     },
     "metadata": {},
     "output_type": "display_data"
    }
   ],
   "source": [
    "plt.figure(figsize=(8, 4))\n",
    "plt.hist(relevance_scores_bert, bins=40)\n",
    "plt.title(\"Relevance Score (BERT) Histogram\")\n",
    "plt.xlabel(\"Relevance Score (BERT)\")\n",
    "plt.ylabel(\"Number of Occurrences\")\n",
    "plt.grid(c='k', alpha=0.1)\n",
    "plt.show()"
   ]
  },
  {
   "cell_type": "code",
   "execution_count": 19,
   "metadata": {},
   "outputs": [],
   "source": [
    "title_rating['relevance_bert'] = relevance_scores_bert"
   ]
  },
  {
   "cell_type": "code",
   "execution_count": 20,
   "metadata": {},
   "outputs": [
    {
     "data": {
      "text/plain": [
       "['Auch in deutsch ausgezeichnet. F&uuml;r alle, die sich das Kind in sich bewahrt haben, ein Vergn&uuml;gen zu lesen.',\n",
       " 'Bueno. Es un buen libro. Es entretenido y tiene recursos realmente interesantes. Rowlind demuestra mucha frescura y creatividad. Me gust&oacute;. Igualmente no creo que sea para para escribir cuatro o cinco libro m&aacute;s... no s&eacute; por cu&aacute;l va ahora.',\n",
       " \"Screw this. Don't ask me to waste my time and not be able to exit this till you get a response. Here it is.\",\n",
       " 'In night dark. I did not not some of the part because it had kill in it but I really enjoyed this story.',\n",
       " 'Missing Disk!. I was very upset with the product I received. After opening and beginning to listen to the CDs I realized that I had two copies of disk 2 and none of disk 3. This error should not have occurred. I would hope that a copy of disk 3 would be sent to me at no charge since I have already paid for the entire book. No one would buy a book if part of it was missing. It is the same expectation should be applied to audio books.']"
      ]
     },
     "execution_count": 20,
     "metadata": {},
     "output_type": "execute_result"
    }
   ],
   "source": [
    "title_rating.sort_values('relevance_bert')['full_text'].head().to_list()"
   ]
  },
  {
   "cell_type": "code",
   "execution_count": 21,
   "metadata": {},
   "outputs": [
    {
     "data": {
      "text/plain": [
       "[\"Rich Imagery and Wizardy. I've just finished re-reading this first Harry Potter book to refresh my memory in anticipation of the movie soon to be released. I was delighted all over again with the rich imagery and vivid imagination of the author. I can visualize the Hogwarts castle, flying broomsticks, witches, wizards, cauldrons, 3-headed monstrous dogs, owls that deliver the mail, unicorns, the invisible cloak, magic wands, dragons, Hagrid the hapless gamekeeper, Draco...Harry's mean-spirited adversary, staircases that move, paintings with disappearing subjects, feasts in the grand hall, spirited Quidditch matches, lessons in sorcery, alchemy, potions and spells.It's a whole new world for Harry, who until his 11th birthday didn't know that he was a world-famous wizard. After being orphaned as a baby, he was raised by his stingy aunt and uncle along with his piggy, selfish cousin, who were Muggles without any special powers. They had tried to deny and hide Harry's true calling, but the letters that started arriving before his 11th birthday, inviting him to attend Hogwarts, were unavoidable, and Harry was whisked away on the Hogwarts Express to a world he never knew existed. Join Harry and his new-found witch and wizard friends in this great adventure that will thrill and delight you and have you waiting for more.\",\n",
       " 'GREAT BOOK. This is a book for anyone who ever believed in the impossible. Anyone who ever hoped for the magical. Anyone who has an imagination.Mysteriously a baby turns up on the door step of Number 4 Privet Drive. It is said to belong to the inhabitants dead sister. So the sister raises the baby. But soon mysterious letters come in the mail. Letters that they dont want to let 11 year old Harry Potter read. But soon he finds out that he was a wizard. A wizard that had survived an evil curse that his parents had not. Which left him a scar, linking him to the one who gave it to him. Who is now powereless. Or thought to be.Harry then attends the Hogwarts School of Witchcraft and Wizardry and makes many friends and meets many magical creatures. He even plays a sport on broomsticks.A must read.AMAZING',\n",
       " 'This is One You\\'ll \"Wand\" to Buy. In this adventurous novel by J.K. Rowling, Harry Potter feels like there is no hope for him while he is living with his unbelievably cruel and unfair aunt and uncle, the Dursleys. Oh! How could I forget about his selfish, ignorant, stubborn, crybaby of a cousin, Dudley. You can\\'t help to feel sorry for Harry...until a surprising arrival of a letter is addressed to \"Mr. H. Potter, The Cupboard under the Stairs\" (Rowling 34). Uncle Vernon refused to let Harry open his letter. Thousands of thousands of letters quickly arrive at the Dursley household for Harry. Moving away to avoid the continuous letters Harry gets a visitor, Rubeus Hagrid. Harry is told he is a wizard which surprises his \"family\" more than anyone. Harry is sent to a school for wizards where he learns all different types of wizardry such as flying a broomstick, different spells, and potions.J.K. Rowling does a fantastic job of foreshadowing what is going to happen. Harry is basically bowed down to as a great wizard without even knowing anything about the wizard world and the fact that there is an antagonist named vol- or I mean he who remains unnamed, a great wizard at a point who went rogue, you can tell that at some point the two will meet. J.K. Rowling also uses theme to show how a young boy overcomes adversity.This novel is fit for everyone it has the cool, majestic ideals of a young child and is written well enough to keep an adult\\'s attention throughout the book. Grab your brooms and join Harry on his adventures through Hogwarts, his new school.',\n",
       " 'Promising Beginning of a Popular Series. JK Rowling had beginner\\'s luck with \"Harry Potter and the Sorcerer\\'s Stone.\" It\\'s a breezy,easy read. Her vocabulary might not be sophisticated and her descriptions tend to be overlong...but it works as a children\\'s book,and most specifically,as fantasy.In the beginning,Harry Potter is like any other 11 yr old boy. He grows up in middle-class England,thinking he\\'s nothing special. However,he is able to leap onto roofs to escape bullies and speak to snakes at the zoo. Still,he doesn\\'t see anything distinctive. Then he receives letters from owls inviting him to the Hogwarts School of Witchcraft and Wizardry. A giant named Rubeus Hagrid comes to his house on Privet Drive to inform him of his chosen status.Harry\\'s adventures on Diagon Alley,to Platform 9 3/4,on the Hogwarts Express,and his first Quidditch games are exhilarating and fun. Rowling adds whimsy with Bertie\\'s Every Flavored Beans and Chocolate Frogs. His friends, Ron and Hermione,have distinctive personalities and bring the reader in. There\\'s the wise Dumbledore,the snippy Snape,and no-nonsense McGonagall. Rowling keeps the action going,and the plot simple. It reads as a good detective story-a Nancy Drew/Hardy Boys story with fantastical elements as Harry,Ron&Hermione; search for the Sorcerer\\'s Stone. \"Harry Potter and the Sorcerer\\'s Stone\" works as a fun fantasy story,innocent and unburdened with politics.It worked in the beginning...',\n",
       " \"An Excellent Book For All Who Like Fantasy!. This book is great! It has plenty of action, a detailed world that covers every category a proper fantasy world should have, going from a magic banking system to a magic school to magic candy... even to magical items for practical jokes! The basic plot is as follows: Harry Potter is orphaned around his first birthday. Little does he dream that he was the major cause of downfall for the most evil wizard who lived! After spending years with the fiendish Dursleys (his aunt, uncle, and cousin), Harry receives a letter telling him that he is a wizard and has been accepted for schooling at Hogwarts, the best magical school in Britain. Soon, he is off to buy the most interesting school supplies he's ever seen (potion ingredients and dragon hide gloves, to name a few), followed by a long, eventful train ride to Hogwarts, a huge, castle-like school with dormitories for the students. He is thankfully sorted into Gryffindor, the best of the four school houses (the others are Ravenclaw, Hufflepuff, and Slytherin). An amazing year begins, in which Harry becomes a member of the Gryffindor Quidditch team (a sport of broomstick fliers), makes enemies in Draco Malfoy and Professor Snape, and makes friends in Hermione Granger and Ron Weasley. The year finishes with a climax so amazing and interesting, you'll have to read it to fully satisfy your imagination. I DEFINITELY recommend this book to anyone, and I hope that all its readers, now and in future, will enjoy it as much as I did.\"]"
      ]
     },
     "execution_count": 21,
     "metadata": {},
     "output_type": "execute_result"
    }
   ],
   "source": [
    "title_rating.sort_values('relevance_bert')['full_text'].tail().to_list()"
   ]
  },
  {
   "cell_type": "markdown",
   "metadata": {},
   "source": [
    "### Using Word2Vec"
   ]
  },
  {
   "cell_type": "markdown",
   "metadata": {},
   "source": [
    "Running in a small sample to estimate the running time:"
   ]
  },
  {
   "cell_type": "code",
   "execution_count": null,
   "metadata": {},
   "outputs": [],
   "source": [
    "# n_samples = 100000\n",
    "# reviews_sample = books_rating['full_text'].iloc[:n_samples].values\n",
    "# relevance_word2vec(reviews_sample)"
   ]
  },
  {
   "cell_type": "code",
   "execution_count": 93,
   "metadata": {},
   "outputs": [],
   "source": [
    "# relevance_scores = relevance_word2vec(books_rating['full_text'].values)"
   ]
  },
  {
   "cell_type": "code",
   "execution_count": 94,
   "metadata": {},
   "outputs": [],
   "source": [
    "# pd.Series(relevance_scores).to_pickle('relecance_scores.pkl')"
   ]
  },
  {
   "cell_type": "code",
   "execution_count": 95,
   "metadata": {},
   "outputs": [],
   "source": [
    "# min(relevance_scores), max(relevance_scores)"
   ]
  },
  {
   "cell_type": "code",
   "execution_count": 103,
   "metadata": {},
   "outputs": [],
   "source": [
    "# for q in range(90, 101):\n",
    "#     print(f\"Quantile {q}: {np.quantile(relevance_scores, q/100):.2f}\")"
   ]
  },
  {
   "cell_type": "code",
   "execution_count": 104,
   "metadata": {},
   "outputs": [],
   "source": [
    "# relevance_scores_norm = (relevance_scores - min(relevance_scores)) / (max(relevance_scores) - min(relevance_scores))"
   ]
  },
  {
   "cell_type": "code",
   "execution_count": 105,
   "metadata": {},
   "outputs": [],
   "source": [
    "# plt.figure(figsize=(8, 4))\n",
    "# plt.hist(relevance_scores_norm, bins=40)\n",
    "# plt.title(\"Relevance Score Histogram\")\n",
    "# plt.xlabel(\"Relevance Score\")\n",
    "# plt.ylabel(\"Number of Occurrences\")\n",
    "# plt.grid(c='k', alpha=0.1)\n",
    "# plt.show()"
   ]
  },
  {
   "cell_type": "code",
   "execution_count": 106,
   "metadata": {},
   "outputs": [],
   "source": [
    "# books_rating['relevance'] = relevance_scores_norm"
   ]
  },
  {
   "cell_type": "code",
   "execution_count": 107,
   "metadata": {},
   "outputs": [],
   "source": [
    "# mean_relevance_by_user_id = (\n",
    "#     books_rating\n",
    "#     .groupby('user_id')\n",
    "#     ['relevance']\n",
    "#     .mean()\n",
    "#     .sort_values()\n",
    "# )\n",
    "# mean_relevance_by_user_id"
   ]
  },
  {
   "cell_type": "code",
   "execution_count": 108,
   "metadata": {},
   "outputs": [],
   "source": [
    "# books_rating.query(\"user_id == 'A2EEKPWCW8GX5R'\")"
   ]
  },
  {
   "cell_type": "code",
   "execution_count": 109,
   "metadata": {},
   "outputs": [],
   "source": [
    "# books_rating['full_text_len'] = books_rating['full_text'].str.len()"
   ]
  },
  {
   "cell_type": "code",
   "execution_count": 110,
   "metadata": {},
   "outputs": [],
   "source": [
    "# books_rating.sort_values('relevance').head(10)"
   ]
  },
  {
   "cell_type": "code",
   "execution_count": 111,
   "metadata": {},
   "outputs": [],
   "source": [
    "# books_rating.sort_values('relevance').tail(10)"
   ]
  },
  {
   "cell_type": "code",
   "execution_count": 112,
   "metadata": {},
   "outputs": [],
   "source": [
    "# books_rating.loc[1872264, 'full_text']"
   ]
  },
  {
   "cell_type": "code",
   "execution_count": 113,
   "metadata": {},
   "outputs": [],
   "source": [
    "# books_rating.loc[1200452, 'full_text']"
   ]
  },
  {
   "cell_type": "code",
   "execution_count": 55,
   "metadata": {},
   "outputs": [],
   "source": [
    "# books_rating['relevance_div_len'] = books_rating['relevance'] / books_rating['full_text_len']"
   ]
  },
  {
   "cell_type": "code",
   "execution_count": 56,
   "metadata": {},
   "outputs": [],
   "source": [
    "# books_rating.sort_values('relevance_div_len').tail(20)"
   ]
  }
 ],
 "metadata": {
  "kernelspec": {
   "display_name": "a3data_desafio",
   "language": "python",
   "name": "python3"
  },
  "language_info": {
   "codemirror_mode": {
    "name": "ipython",
    "version": 3
   },
   "file_extension": ".py",
   "mimetype": "text/x-python",
   "name": "python",
   "nbconvert_exporter": "python",
   "pygments_lexer": "ipython3",
   "version": "3.11.11"
  }
 },
 "nbformat": 4,
 "nbformat_minor": 2
}
